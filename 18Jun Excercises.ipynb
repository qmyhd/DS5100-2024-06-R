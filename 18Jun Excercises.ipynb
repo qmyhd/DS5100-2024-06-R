{
 "cells": [
  {
   "cell_type": "code",
   "execution_count": 5,
   "id": "1744ad50-c1c7-415c-9f5a-b9d1c7d4e223",
   "metadata": {
    "tags": []
   },
   "outputs": [
    {
     "name": "stdout",
     "output_type": "stream",
     "text": [
      "Hel\n",
      "rld\n"
     ]
    }
   ],
   "source": [
    "##Excercise 2.1\n",
    "str0 = \"HelloWorld\"\n",
    "print(str0[:3])\n",
    "print(str0[-3:])"
   ]
  },
  {
   "cell_type": "code",
   "execution_count": 3,
   "id": "09738a3a-38ce-4b82-ba2c-4b90bf1f7797",
   "metadata": {
    "tags": []
   },
   "outputs": [
    {
     "name": "stdout",
     "output_type": "stream",
     "text": [
      "World\n"
     ]
    }
   ],
   "source": [
    "##Excercise 2.2\n",
    "lst0 = []\n",
    "lst0.append(\"Hello\")\n",
    "lst0.append(\"World\")\n",
    "lst0.append(\"!\")\n",
    "print(lst0[1])"
   ]
  },
  {
   "cell_type": "code",
   "execution_count": null,
   "id": "9e94aee0-86b4-4c30-9366-1e9076823f50",
   "metadata": {},
   "outputs": [],
   "source": []
  }
 ],
 "metadata": {
  "kernelspec": {
   "display_name": "Python 3 (ipykernel)",
   "language": "python",
   "name": "python3"
  },
  "language_info": {
   "codemirror_mode": {
    "name": "ipython",
    "version": 3
   },
   "file_extension": ".py",
   "mimetype": "text/x-python",
   "name": "python",
   "nbconvert_exporter": "python",
   "pygments_lexer": "ipython3",
   "version": "3.11.4"
  }
 },
 "nbformat": 4,
 "nbformat_minor": 5
}
