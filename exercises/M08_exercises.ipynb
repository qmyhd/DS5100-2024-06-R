{
 "cells": [
  {
   "cell_type": "code",
   "execution_count": null,
   "metadata": {},
   "outputs": [],
   "source": [
    "import numpy as np\n",
    "import matplotlib.pyplot as plt\n",
    "import pandas as pd "
   ]
  },
  {
   "cell_type": "code",
   "execution_count": null,
   "metadata": {},
   "outputs": [],
   "source": [
    "#Excercise 8.1\n",
    "#write a try/except statement to handle zerodivisision error exception\n",
    "x= 5\n",
    "y= 0\n",
    "try:\n",
    "    result = x/y\n",
    "    print(result)\n",
    "except ZeroDivisionError:\n",
    "    print(\"Error: Cannot divide by zero\")"
   ]
  },
  {
   "cell_type": "code",
   "execution_count": null,
   "metadata": {},
   "outputs": [],
   "source": [
    "#excercise 8.2\n",
    "#write two simple boolean expressions, one true and one false. Use the assert statement to test each.\n",
    "\n",
    "x2 = 2 + 2 == 4\n",
    "assert x2, \"x2 is true\"  \n",
    "\n",
    "x3 = 2 + 2 == 5\n",
    "assert x3, \"x3 is true\""
   ]
  },
  {
   "cell_type": "code",
   "execution_count": 17,
   "metadata": {},
   "outputs": [],
   "source": [
    "#excercise 8.3\n",
    "from math import pi as pi\n",
    "def area(radius):\n",
    "    return pi*radius**2\n",
    "\n",
    "assert isinstance(area(1),float),\"Test 1 failed\"\n",
    "assert area(1)==pi,\"Test 2 failed\"\n",
    "assert area(10)==314.1592653589793,\"Test 3 failed\"\n"
   ]
  },
  {
   "cell_type": "code",
   "execution_count": 15,
   "metadata": {},
   "outputs": [],
   "source": [
    "#excercise 8,4\n",
    "class Student:\n",
    "    \n",
    "    # constructor\n",
    "    def __init__(self, name, courses=None):\n",
    "        self.name = name # string type\n",
    "        self.courses = [] if courses is None else courses # list of strings\n",
    "        self.num_courses = len(self.courses)\n",
    "        \n",
    "    # enroll in a course\n",
    "    def enroll_in_course(self, course_name): \n",
    "        self.courses.append(course_name)\n",
    "        self.num_courses += 1 # increment the number of courses        \n",
    "    \n",
    "    def unenroll_in_course(self, course_name):\n",
    "        if course_name not in self.courses:\n",
    "            raise ValueError(f\"Student is not enrolled in the course: {course_name}\")\n",
    "        self.courses.remove(course_name)\n",
    "        self.num_courses -= 1  # decrement the number of courses"
   ]
  },
  {
   "cell_type": "code",
   "execution_count": 16,
   "metadata": {},
   "outputs": [
    {
     "name": "stderr",
     "output_type": "stream",
     "text": [
      "...\n",
      "----------------------------------------------------------------------\n",
      "Ran 3 tests in 0.015s\n",
      "\n",
      "OK\n"
     ]
    }
   ],
   "source": [
    "import unittest\n",
    "\n",
    "class TestStudent(unittest.TestCase):\n",
    "    \n",
    "    def setUp(self):\n",
    "        self.student = Student(\"John Doe\", [\"Math\", \"Science\"])\n",
    "\n",
    "    def test_01_incrementer_works(self):\n",
    "        # Test that enrolling in a course increments the course counter\n",
    "        self.student.enroll_in_course(\"History\")\n",
    "        self.assertEqual(self.student.num_courses, 3)\n",
    "        self.assertIn(\"History\", self.student.courses)\n",
    "    \n",
    "    def test_02_course_is_removed(self):\n",
    "        # Test that unenrolling from a course removes it and decrements the counter\n",
    "        self.student.unenroll_in_course(\"Math\")\n",
    "        self.assertEqual(self.student.num_courses, 1)\n",
    "        self.assertNotIn(\"Math\", self.student.courses)\n",
    "    \n",
    "    def test_03_no_increment_if_not_enrolled(self):\n",
    "        # Test that trying to unenroll from a course not enrolled in raises an exception\n",
    "        with self.assertRaises(ValueError):\n",
    "            self.student.unenroll_in_course(\"History\")\n",
    "        self.assertEqual(self.student.num_courses, 2)  # Ensure the course count is unchanged\n",
    "        self.assertNotIn(\"History\", self.student.courses)\n",
    "\n",
    "if __name__ == \"__main__\":\n",
    "    # Avoid calling unittest.main() with arguments from the notebook environment\n",
    "    unittest.main(argv=['first-arg-is-ignored'], exit=False)\n"
   ]
  },
  {
   "cell_type": "code",
   "execution_count": 21,
   "metadata": {},
   "outputs": [],
   "source": [
    "#excercise 8.5\n",
    "\n",
    "class Car:\n",
    "    body_types = [\"suv\", \"crossover\", \"sedan\", \"hatchback\", \"sport\"]\n",
    "    enigne_types = [\"electric\", \"gas\", \"diesel\"]\n",
    "    \n",
    "    def __init__(self, body_type, engine_type):\n",
    "        if body_type not in Car.body_types:\n",
    "            raise ValueError(f\"Invalid body type: {body_type}\")\n",
    "        if engine_type not in Car.enigne_types:\n",
    "            raise ValueError(f\"Invalid engine type: {engine_type}\")\n",
    "        self.body_type = body_type\n",
    "        self.engine_type = engine_type\n",
    "        \n",
    "    def describe_car(self):\n",
    "        return f\"This car is a {self.body_type} with a {self.engine_type} engine.\"\n",
    "    \n",
    "class Subaru(Car):\n",
    "    \n",
    "    def __init__(self, body_type, engine_type, year, model, trim= None):\n",
    "        self.year = year\n",
    "        self.model = model\n",
    "        self.trim = trim\n",
    "        super().__init__(body_type, engine_type) \n",
    "    def describe_car(self):\n",
    "        description = super().describe_car()\n",
    "        return f\"{description} It is a {self.year} {self.model} with {self.trim} trim.\""
   ]
  },
  {
   "cell_type": "code",
   "execution_count": 25,
   "metadata": {},
   "outputs": [
    {
     "data": {
      "text/plain": [
       "'This car is a suv with a gas engine. It is a 2021 Outback with Limited trim.'"
      ]
     },
     "execution_count": 25,
     "metadata": {},
     "output_type": "execute_result"
    }
   ],
   "source": [
    "my_args = dict(body_type=\"suv\", engine_type=\"gas\", year=2021, model=\"Outback\", trim=\"Limited\")\n",
    "my_car = Subaru(**my_args)\n",
    "my_car.describe_car()\n"
   ]
  }
 ],
 "metadata": {
  "kernelspec": {
   "display_name": "myenv",
   "language": "python",
   "name": "python3"
  },
  "language_info": {
   "codemirror_mode": {
    "name": "ipython",
    "version": 3
   },
   "file_extension": ".py",
   "mimetype": "text/x-python",
   "name": "python",
   "nbconvert_exporter": "python",
   "pygments_lexer": "ipython3",
   "version": "3.11.9"
  }
 },
 "nbformat": 4,
 "nbformat_minor": 2
}
