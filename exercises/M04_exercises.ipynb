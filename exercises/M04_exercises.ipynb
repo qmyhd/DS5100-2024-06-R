{
 "cells": [
  {
   "cell_type": "markdown",
   "id": "a23c8129-257e-4440-bfb1-f9d46388a597",
   "metadata": {},
   "source": [
    "# M04 Exercises"
   ]
  },
  {
   "cell_type": "markdown",
   "id": "ce6ff03f-19b7-444f-bb81-b844f891027a",
   "metadata": {},
   "source": [
    "## Exercise 4.1"
   ]
  },
  {
   "cell_type": "code",
   "execution_count": 2,
   "id": "746872b6-8cf4-4395-b3ae-3f45afd51474",
   "metadata": {},
   "outputs": [
    {
     "name": "stdout",
     "output_type": "stream",
     "text": [
      "True\n",
      "False\n"
     ]
    }
   ],
   "source": [
    "def str_length_equals(text, val):\n",
    "    '''\n",
    "    Assesses whether the string arg length is equal to the integer arg\n",
    "    '''\n",
    "    return len(text) == val\n",
    "\n",
    "print(str_length_equals(\"is this text the right length?\", 30))  \n",
    "print(str_length_equals(\"is this text the same length?\", 35))  # False"
   ]
  },
  {
   "cell_type": "markdown",
   "id": "1dcfc95b-7498-42da-a317-35c287d76bce",
   "metadata": {},
   "source": [
    "## Exercise 4.2"
   ]
  },
  {
   "cell_type": "code",
   "execution_count": 3,
   "id": "b7926e65-c4b7-4ec0-8392-8a13790323bc",
   "metadata": {},
   "outputs": [
    {
     "name": "stdout",
     "output_type": "stream",
     "text": [
      "9\n",
      "25\n",
      "49\n",
      "9\n",
      "25\n",
      "49\n",
      "9\n",
      "25\n",
      "49\n",
      "[None, None, None]\n"
     ]
    }
   ],
   "source": [
    "def square_values(*numbers):\n",
    "    return [print(num ** 2) for num in numbers]\n",
    "\n",
    "square_values(3, 5, 7)  \n",
    "square_values(*[3, 5, 7])  \n",
    "result = square_values(3, 5, 7)  \n",
    "print(result)  "
   ]
  },
  {
   "cell_type": "markdown",
   "id": "658df904-0953-44a5-a568-cedfa1398958",
   "metadata": {},
   "source": [
    "## Exercise 4.3"
   ]
  },
  {
   "cell_type": "code",
   "execution_count": 46,
   "id": "795158d8-292a-414f-aafb-34f1aa845a7b",
   "metadata": {},
   "outputs": [],
   "source": [
    "def shorten_word(word):\n",
    "    '''\n",
    "    Takes a long word and returns a string that has the same first and last letters capitalized, \n",
    "    and replaces the middle letters with the number of middle letters.\n",
    "    '''\n",
    "    if len(word) >= 3:\n",
    "        return f\"{word[0].upper()}{len(word) - 2}{word[-1].upper()}\"\n",
    "    else:\n",
    "        return 'Arguments are not satisfactory for function.'\n",
    "\n",
    "print(shorten_word('internationalization')) \n",
    "print(shorten_word('hi'))  # Arguments are not satisfactory "
   ]
  },
  {
   "cell_type": "markdown",
   "id": "0e756185-ea04-4ac9-a9bd-1501ac78c565",
   "metadata": {},
   "source": [
    "## Exercise 4.4"
   ]
  },
  {
   "cell_type": "code",
   "execution_count": 4,
   "id": "51bd644c-60af-4369-ae4f-c259d2890e06",
   "metadata": {},
   "outputs": [
    {
     "name": "stdout",
     "output_type": "stream",
     "text": [
      "1\n",
      "1\n",
      "0\n"
     ]
    }
   ],
   "source": [
    "def diff_non_negative(number):\n",
    "    return 1 if number - 5 >= 0 else 0\n",
    "\n",
    "print(diff_non_negative(6))  # 1\n",
    "print(diff_non_negative(5))  # 1\n",
    "print(diff_non_negative(4))  # 0"
   ]
  }
 ],
 "metadata": {
  "kernelspec": {
   "display_name": "Python 3",
   "language": "python",
   "name": "python3"
  },
  "language_info": {
   "codemirror_mode": {
    "name": "ipython",
    "version": 3
   },
   "file_extension": ".py",
   "mimetype": "text/x-python",
   "name": "python",
   "nbconvert_exporter": "python",
   "pygments_lexer": "ipython3",
   "version": "3.11.9"
  }
 },
 "nbformat": 4,
 "nbformat_minor": 5
}
