{
 "cells": [
  {
   "cell_type": "markdown",
   "metadata": {},
   "source": [
    "Qais Youssef (Qmy6cv)\n",
    "## Ex 3.1"
   ]
  },
  {
   "cell_type": "code",
   "execution_count": 1,
   "metadata": {},
   "outputs": [
    {
     "name": "stdout",
     "output_type": "stream",
     "text": [
      "Bucket 4\n"
     ]
    }
   ],
   "source": [
    "val = 5\n",
    "if -10< val <-5:\n",
    "    print(\"Bucket 1\")\n",
    "elif -5 <= val < -2:\n",
    "    print(\"Bucket 2\")\n",
    "elif val == -2:\n",
    "    print(\"Bucket 3\")\n",
    "else:\n",
    "    print(\"Bucket 4\")"
   ]
  },
  {
   "cell_type": "markdown",
   "metadata": {},
   "source": [
    "## Ex 3.2"
   ]
  },
  {
   "cell_type": "code",
   "execution_count": 4,
   "metadata": {},
   "outputs": [
    {
     "name": "stdout",
     "output_type": "stream",
     "text": [
      "Max: 8\n"
     ]
    }
   ],
   "source": [
    "xx = [-2, 8, 0, 5,6]\n",
    "maxx_val = max(xx)\n",
    "for x in xx:\n",
    "    if x == maxx_val:\n",
    "        print(\"Max:\", x)\n",
    "        break\n",
    "    \n"
   ]
  },
  {
   "cell_type": "markdown",
   "metadata": {},
   "source": [
    "## Ex 3.3"
   ]
  },
  {
   "cell_type": "code",
   "execution_count": null,
   "metadata": {},
   "outputs": [
    {
     "name": "stdout",
     "output_type": "stream",
     "text": [
      "0\n",
      "10\n",
      "20\n",
      "30\n",
      "40\n",
      "50\n",
      "60\n",
      "70\n",
      "80\n",
      "90\n"
     ]
    }
   ],
   "source": [
    "it = 0\n",
    "max_iter = 100\n",
    "while it < max_iter:\n",
    "    if (it == 0) or (it % 10 == 0):\n",
    "        print(it)\n",
    "    it += 1\n",
    "    if it >= max_iter:\n",
    "        break"
   ]
  },
  {
   "cell_type": "markdown",
   "metadata": {},
   "source": [
    "## Ex 3.4"
   ]
  },
  {
   "cell_type": "code",
   "execution_count": null,
   "metadata": {},
   "outputs": [
    {
     "name": "stdout",
     "output_type": "stream",
     "text": [
      "qais\n",
      "harry\n",
      "finn\n",
      "alex\n"
     ]
    }
   ],
   "source": [
    "list1 = [\"Qais\", \"Harry\", \"Finn\", \"Alex\"]\n",
    "for item in list1:\n",
    "    print(item.lower())"
   ]
  },
  {
   "cell_type": "markdown",
   "metadata": {},
   "source": [
    "## Ex 3.5"
   ]
  },
  {
   "cell_type": "code",
   "execution_count": null,
   "metadata": {},
   "outputs": [
    {
     "name": "stdout",
     "output_type": "stream",
     "text": [
      "Qais\n",
      "Harry\n",
      "Finn\n",
      "Alex\n",
      "Qais\n",
      "Harry\n",
      "Finn\n",
      "Alex\n"
     ]
    }
   ],
   "source": [
    "list1 = [\"Qais\", \"Harry\", \"Finn\", \"Alex\"]\n",
    "#use iter() and next() to iterate over the lsit and print the items\n",
    "list1_iter = iter(list1)\n",
    "print(next(list1_iter))\n",
    "print(next(list1_iter))\n",
    "print(next(list1_iter))\n",
    "print(next(list1_iter))\n",
    "\n",
    "for item in iter(list1):\n",
    "    print(item)"
   ]
  },
  {
   "cell_type": "markdown",
   "metadata": {},
   "source": [
    "## Ex 3.6"
   ]
  },
  {
   "cell_type": "code",
   "execution_count": null,
   "metadata": {},
   "outputs": [
    {
     "name": "stdout",
     "output_type": "stream",
     "text": [
      "New York , 10001\n",
      "Los Angeles , 90001\n"
     ]
    }
   ],
   "source": [
    "city_zip = {\"New York\": 10001, \"Los Angeles\": 90001}\n",
    "\n",
    "for city, zip_code in city_zip.items():\n",
    "    print(city,\",\", zip_code)"
   ]
  },
  {
   "cell_type": "markdown",
   "metadata": {},
   "source": [
    "## Ex 3.7"
   ]
  },
  {
   "cell_type": "code",
   "execution_count": null,
   "metadata": {},
   "outputs": [
    {
     "name": "stdout",
     "output_type": "stream",
     "text": [
      "New York 10001\n",
      "Los Angeles 90001\n"
     ]
    }
   ],
   "source": [
    "city_zip = {\"New York\": 10001, \"Los Angeles\": 90001}\n",
    "for city in city_zip:\n",
    "    print(city, city_zip[city])"
   ]
  },
  {
   "cell_type": "markdown",
   "metadata": {},
   "source": [
    "## Ex 3.8"
   ]
  },
  {
   "cell_type": "code",
   "execution_count": null,
   "metadata": {},
   "outputs": [
    {
     "name": "stdout",
     "output_type": "stream",
     "text": [
      "[1, 8, 27, 64, 125]\n"
     ]
    }
   ],
   "source": [
    "#write a list comprehenesion that takes a list of numeric values and returns a list of their cubes.\n",
    "list1 = [1, 2, 3, 4, 5]\n",
    "list2 = [i**3 for i in list1]\n",
    "print(list2)"
   ]
  },
  {
   "cell_type": "markdown",
   "metadata": {},
   "source": [
    "## Ex 3.9"
   ]
  },
  {
   "cell_type": "code",
   "execution_count": null,
   "metadata": {},
   "outputs": [
    {
     "name": "stdout",
     "output_type": "stream",
     "text": [
      "['1', '2', '3', '4', '5']\n"
     ]
    }
   ],
   "source": [
    "#Create a list of 7 strings that include some numbers and non nobers, the numbers should be quoted. Write a list comprehension that takes the list and returns a slist fo the strings that are numbers.\n",
    "list1 = [\"1\", \"2\", \"3\", \"4\", \"5\", \"six\", \"seven\"]\n",
    "list2 = [x for x in list1 if x.isdigit()]\n",
    "print(list2)"
   ]
  },
  {
   "cell_type": "markdown",
   "metadata": {},
   "source": [
    "## Ex 3.10"
   ]
  },
  {
   "cell_type": "code",
   "execution_count": null,
   "metadata": {},
   "outputs": [
    {
     "data": {
      "text/plain": [
       "{'max depth': [5, 10], 'max_iter': [10, 20]}"
      ]
     },
     "execution_count": 19,
     "metadata": {},
     "output_type": "execute_result"
    }
   ],
   "source": [
    "grid = {\n",
    "    \"max depth\": [5,10],\n",
    "    \"ntrees\": [100, 200,300],\n",
    "    \"regularization\": [11,12],\n",
    "    \"max_iter\": [10, 20]\n",
    "}\n",
    "\n",
    "grid_max = {key : grid[key] for key in grid.keys() if \"max\" in key}\n",
    "grid_max"
   ]
  }
 ],
 "metadata": {
  "kernelspec": {
   "display_name": "myenv",
   "language": "python",
   "name": "python3"
  },
  "language_info": {
   "codemirror_mode": {
    "name": "ipython",
    "version": 3
   },
   "file_extension": ".py",
   "mimetype": "text/x-python",
   "name": "python",
   "nbconvert_exporter": "python",
   "pygments_lexer": "ipython3",
   "version": "3.11.9"
  }
 },
 "nbformat": 4,
 "nbformat_minor": 2
}
