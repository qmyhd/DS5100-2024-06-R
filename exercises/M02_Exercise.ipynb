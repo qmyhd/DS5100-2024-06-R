{
 "cells": [
  {
   "cell_type": "code",
   "execution_count": 2,
   "id": "26dad76c-8206-4b9d-b427-6ed6c1de6330",
   "metadata": {
    "tags": []
   },
   "outputs": [
    {
     "data": {
      "text/plain": [
       "True"
      ]
     },
     "execution_count": 2,
     "metadata": {},
     "output_type": "execute_result"
    }
   ],
   "source": [
    "mystr ='python'\n",
    "len(mystr) >=6"
   ]
  },
  {
   "cell_type": "markdown",
   "id": "8b549808-d331-4590-8f29-e6e86ab90fbb",
   "metadata": {
    "tags": []
   },
   "source": [
    "print(mystr[:3])\n",
    "print(mystr[-3:])"
   ]
  },
  {
   "cell_type": "code",
   "execution_count": 7,
   "id": "510bf81e-fa9e-472b-bfe0-a15c8c6ee8d5",
   "metadata": {
    "tags": []
   },
   "outputs": [
    {
     "name": "stdout",
     "output_type": "stream",
     "text": [
      "[4]\n"
     ]
    }
   ],
   "source": [
    "newlist = [3,4,5]\n",
    "print(newlist[1:2])"
   ]
  },
  {
   "cell_type": "code",
   "execution_count": 8,
   "id": "87ef0d0d-f1bd-4bad-ba0b-f4d3475c7e63",
   "metadata": {
    "tags": []
   },
   "outputs": [
    {
     "name": "stdout",
     "output_type": "stream",
     "text": [
      "second\n"
     ]
    }
   ],
   "source": [
    "otherlist =[]\n",
    "otherlist.append('first')\n",
    "otherlist.append('second')\n",
    "otherlist.append('third')\n",
    "print(otherlist[1])"
   ]
  },
  {
   "cell_type": "code",
   "execution_count": 8,
   "id": "f16402b4-cdaa-45a7-a5c0-691be1bbfefa",
   "metadata": {
    "tags": []
   },
   "outputs": [
    {
     "name": "stdout",
     "output_type": "stream",
     "text": [
      "(21, 16, 14)\n",
      "(1, 2, 3)\n",
      "(1, 2, 3)\n"
     ]
    }
   ],
   "source": [
    "mytuple = 21,16,14\n",
    "tuple2 = (1,2,3)\n",
    "tuple3 = tuple([1,2,3])\n",
    "print(mytuple)\n",
    "print(tuple2)\n",
    "print(tuple3)"
   ]
  },
  {
   "cell_type": "code",
   "execution_count": 7,
   "id": "7c625a14-0b55-42ae-bd2c-9c2a19ff1fd0",
   "metadata": {
    "tags": []
   },
   "outputs": [
    {
     "data": {
      "text/plain": [
       "True"
      ]
     },
     "execution_count": 7,
     "metadata": {},
     "output_type": "execute_result"
    }
   ],
   "source": [
    "var = 'hamster'\n",
    "cat = {'dog', 'cat', 'parrot', 'hamster'}\n",
    "var in cat\n"
   ]
  }
 ],
 "metadata": {
  "kernelspec": {
   "display_name": "Python 3 (ipykernel)",
   "language": "python",
   "name": "python3"
  },
  "language_info": {
   "codemirror_mode": {
    "name": "ipython",
    "version": 3
   },
   "file_extension": ".py",
   "mimetype": "text/x-python",
   "name": "python",
   "nbconvert_exporter": "python",
   "pygments_lexer": "ipython3",
   "version": "3.11.4"
  }
 },
 "nbformat": 4,
 "nbformat_minor": 5
}
