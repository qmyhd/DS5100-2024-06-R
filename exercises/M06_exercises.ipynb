{
 "cells": [
  {
   "cell_type": "code",
   "execution_count": 2,
   "metadata": {},
   "outputs": [
    {
     "name": "stdout",
     "output_type": "stream",
     "text": [
      "Numpy version: 1.26.4\n",
      "Pandas version: 2.2.2\n",
      "   features  labels\n",
      "0       1.4       1\n",
      "1       2.6       2\n",
      "2       3.8       1\n",
      "3       4.2       3\n",
      "4       5.5       2\n"
     ]
    }
   ],
   "source": [
    "# Exercise 6.1\n",
    "import pandas as pd\n",
    "import numpy as np\n",
    "import seaborn as sns\n",
    "\n",
    "print(\"Numpy version:\", np.__version__)\n",
    "print(\"Pandas version:\", pd.__version__)\n",
    "\n",
    "df = pd.DataFrame({\n",
    "    'features': [1.4, 2.6, 3.8, 4.2, 5.5],\n",
    "    'labels': [1, 2, 1, 3, 2]\n",
    "})\n",
    "print(df)\n"
   ]
  },
  {
   "cell_type": "code",
   "execution_count": 3,
   "metadata": {},
   "outputs": [
    {
     "name": "stdout",
     "output_type": "stream",
     "text": [
      "   features  label\n",
      "0       1.4      1\n",
      "1       2.6      2\n",
      "2       3.8      1\n",
      "3       4.2      3\n",
      "4       5.5      2\n"
     ]
    }
   ],
   "source": [
    "# Exercise 6.2\n",
    "df = df.rename(columns={'labels': 'label'})\n",
    "print(df)\n"
   ]
  },
  {
   "cell_type": "code",
   "execution_count": 4,
   "metadata": {},
   "outputs": [
    {
     "name": "stdout",
     "output_type": "stream",
     "text": [
      "     sepal_length  sepal_width  petal_length  petal_width    species\n",
      "149           5.9          3.0           5.1          1.8  virginica\n",
      "111           6.4          2.7           5.3          1.9  virginica\n",
      "122           7.7          2.8           6.7          2.0  virginica\n",
      "121           5.6          2.8           4.9          2.0  virginica\n",
      "120           6.9          3.2           5.7          2.3  virginica\n"
     ]
    }
   ],
   "source": [
    "# Exercise 6.3\n",
    "iris = sns.load_dataset('iris')\n",
    "sorted_iris = iris.sort_values(by='species', ascending=False)\n",
    "print(sorted_iris.head())\n"
   ]
  },
  {
   "cell_type": "code",
   "execution_count": 5,
   "metadata": {},
   "outputs": [
    {
     "name": "stdout",
     "output_type": "stream",
     "text": [
      "            counts\n",
      "species           \n",
      "setosa          50\n",
      "versicolor      50\n",
      "virginica       50\n"
     ]
    }
   ],
   "source": [
    "# Exercise 6.4\n",
    "species_count = iris['species'].value_counts().to_frame('counts')\n",
    "print(species_count)\n"
   ]
  },
  {
   "cell_type": "code",
   "execution_count": 6,
   "metadata": {},
   "outputs": [
    {
     "name": "stdout",
     "output_type": "stream",
     "text": [
      "137\n"
     ]
    }
   ],
   "source": [
    "# Exercise 6.5\n",
    "filtered_count = len(iris[(iris['petal_length'] <= 1.4) | (iris['petal_length'] >= 1.6)])\n",
    "print(filtered_count)\n"
   ]
  },
  {
   "cell_type": "code",
   "execution_count": 7,
   "metadata": {},
   "outputs": [
    {
     "name": "stdout",
     "output_type": "stream",
     "text": [
      "   sepal_length  sepal_width  petal_length  petal_width species  min_petal\n",
      "0           5.1          3.5           1.4          0.2  setosa        0.2\n",
      "1           4.9          3.0           1.4          0.2  setosa        0.2\n",
      "2           4.7          3.2           1.3          0.2  setosa        0.2\n",
      "3           4.6          3.1           1.5          0.2  setosa        0.2\n",
      "4           5.0          3.6           1.4          0.2  setosa        0.2\n"
     ]
    }
   ],
   "source": [
    "# Exercise 6.6\n",
    "iris['min_petal'] = iris.apply(lambda x: min(x['petal_length'], x['petal_width']), axis=1)\n",
    "print(iris.head())\n"
   ]
  },
  {
   "cell_type": "code",
   "execution_count": 14,
   "metadata": {},
   "outputs": [
    {
     "name": "stdout",
     "output_type": "stream",
     "text": [
      "              mean                      median                     \n",
      "species     setosa versicolor virginica setosa versicolor virginica\n",
      "petal_width  0.246      1.326     2.026    0.2        1.3       2.0\n",
      "sepal_width  3.428      2.770     2.974    3.4        2.8       3.0\n"
     ]
    }
   ],
   "source": [
    "# Exercise 6.7\n",
    "pivot_table = pd.pivot_table(iris, values=['sepal_width', 'petal_width'], columns=['species'], aggfunc=['mean', 'median'])\n",
    "print(pivot_table)\n"
   ]
  },
  {
   "cell_type": "code",
   "execution_count": 9,
   "metadata": {},
   "outputs": [
    {
     "name": "stdout",
     "output_type": "stream",
     "text": [
      "      lval  rval\n",
      "key             \n",
      "john    15     5\n",
      "lily    22     7\n",
      "      lval  rval\n",
      "key             \n",
      "john  15.0     5\n",
      "lily  22.0     7\n",
      "mark   NaN     8\n"
     ]
    }
   ],
   "source": [
    "# Exercise 6.8\n",
    "left = pd.DataFrame({'key': ['john', 'lily'], 'lval': [15, 22]}).set_index('key')\n",
    "right = pd.DataFrame({'key': ['john', 'lily', 'mark'], 'rval': [5, 7, 8]}).set_index('key')\n",
    "\n",
    "# Inner join\n",
    "inner_join = pd.merge(left, right, on='key', how='inner')\n",
    "print(inner_join)\n",
    "\n",
    "# Outer join\n",
    "outer_join = left.join(right, how='outer')\n",
    "print(outer_join)\n"
   ]
  },
  {
   "cell_type": "code",
   "execution_count": 10,
   "metadata": {},
   "outputs": [
    {
     "name": "stdout",
     "output_type": "stream",
     "text": [
      "[[1 1 2]\n",
      " [3 5 8]]\n"
     ]
    }
   ],
   "source": [
    "# Exercise 6.9\n",
    "data = pd.Series([1, 1, 2, 3, 5, 8])\n",
    "reshaped_data = data.values.reshape((2, 3))\n",
    "print(reshaped_data)\n"
   ]
  },
  {
   "cell_type": "code",
   "execution_count": 11,
   "metadata": {},
   "outputs": [
    {
     "name": "stdout",
     "output_type": "stream",
     "text": [
      "   b_burmese  b_himalayan  b_persian  b_siamese  c_calico  c_cream  c_sable  \\\n",
      "0      False        False       True      False      True    False    False   \n",
      "1      False        False       True      False     False    False    False   \n",
      "2      False        False      False       True     False    False    False   \n",
      "3      False         True      False      False     False     True    False   \n",
      "4       True        False      False      False     False    False     True   \n",
      "\n",
      "   c_seal point  c_white  \n",
      "0         False    False  \n",
      "1         False     True  \n",
      "2          True    False  \n",
      "3         False    False  \n",
      "4         False    False  \n"
     ]
    }
   ],
   "source": [
    "# Exercise 6.10\n",
    "cats = pd.DataFrame({\n",
    "    'breed': ['persian', 'persian', 'siamese', 'himalayan', 'burmese'],\n",
    "    'color': ['calico', 'white', 'seal point', 'cream', 'sable']\n",
    "})\n",
    "dummy_vars = pd.get_dummies(cats, prefix=['b', 'c'])\n",
    "print(dummy_vars)\n"
   ]
  }
 ],
 "metadata": {
  "kernelspec": {
   "display_name": "myenv",
   "language": "python",
   "name": "python3"
  },
  "language_info": {
   "codemirror_mode": {
    "name": "ipython",
    "version": 3
   },
   "file_extension": ".py",
   "mimetype": "text/x-python",
   "name": "python",
   "nbconvert_exporter": "python",
   "pygments_lexer": "ipython3",
   "version": "3.11.9"
  }
 },
 "nbformat": 4,
 "nbformat_minor": 2
}
