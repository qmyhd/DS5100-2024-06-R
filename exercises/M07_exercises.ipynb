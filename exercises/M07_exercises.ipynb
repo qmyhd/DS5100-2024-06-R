{
 "cells": [
  {
   "cell_type": "code",
   "execution_count": 1,
   "metadata": {},
   "outputs": [],
   "source": [
    "# Exercise 7.1\n",
    "class MyClass:\n",
    "    \"\"\"Example class for Exercise 7.1\"\"\"\n",
    "    \n",
    "    def __init__(self, att2):\n",
    "        self.att1 = \"foo\"\n",
    "        self.att2 = att2\n",
    "    \n",
    "    def add(self):\n",
    "        print(self.att1 + \" \" + self.att2)"
   ]
  },
  {
   "cell_type": "code",
   "execution_count": 3,
   "metadata": {},
   "outputs": [
    {
     "name": "stdout",
     "output_type": "stream",
     "text": [
      "foo\n",
      "This is a sentence.\n",
      "foo This is a sentence.\n"
     ]
    }
   ],
   "source": [
    "# Exercise 7.2\n",
    "example = MyClass(\"This is a sentence.\")\n",
    "print(example.att1) \n",
    "print(example.att2) \n",
    "example.add()  "
   ]
  },
  {
   "cell_type": "code",
   "execution_count": 7,
   "metadata": {},
   "outputs": [
    {
     "data": {
      "image/png": "[encoded data removed]",
      "text/plain": [
       "<Figure size 640x480 with 1 Axes>"
      ]
     },
     "metadata": {},
     "output_type": "display_data"
    }
   ],
   "source": [
    "# Exercise 7.3\n",
    "import pandas as pd\n",
    "import numpy as np\n",
    "\n",
    "class Student:\n",
    "    def __init__(self, name, ID):\n",
    "        self.name = name\n",
    "        self.ID = ID\n",
    "        self.grades = pd.Series(dtype=float)\n",
    "\n",
    "    def add_assignment(self, assignment, grade):\n",
    "        self.grades.loc[assignment] = grade\n",
    "\n",
    "    def plot(self):\n",
    "        self.grades.plot.bar(title=f\"Grades for {self.name} ({self.ID})\")\n",
    "\n",
    "student = Student(\"QAIS\", \"qmy6cv\")\n",
    "student.add_assignment(\"HW01\", 100)\n",
    "student.add_assignment(\"HW02\", 97)\n",
    "student.add_assignment(\"HW03\", 80)\n",
    "student.add_assignment(\"HW04\", 90)\n",
    "student.plot()\n"
   ]
  },
  {
   "cell_type": "code",
   "execution_count": 8,
   "metadata": {},
   "outputs": [],
   "source": [
    "# Exercise 7.4\n",
    "class V3:\n",
    "    def __init__(self, instance_size, num_vcpus, memory, disk_space):\n",
    "        self.instance_size = instance_size\n",
    "        self.num_vcpus = num_vcpus\n",
    "        self.memory = memory\n",
    "        self.disk_space = disk_space\n",
    "\n",
    "    def add_disk_space(self, amt_to_add):\n",
    "        self.disk_space += amt_to_add\n",
    "\n",
    "    def has_enough_disk_space(self, amt_required):\n",
    "        if self.disk_space >= amt_required:\n",
    "            print(\"There is enough disk space!\")\n",
    "            return True\n",
    "        else:\n",
    "            print(\"There is NOT enough disk space!\")\n",
    "            return False\n"
   ]
  },
  {
   "cell_type": "code",
   "execution_count": 9,
   "metadata": {},
   "outputs": [
    {
     "name": "stdout",
     "output_type": "stream",
     "text": [
      "3.0\n",
      "There is NOT enough disk space!\n",
      "False\n"
     ]
    }
   ],
   "source": [
    "# Exercise 7.5\n",
    "myobject = V3('large', 32, 256, 1.0)\n",
    "myobject.add_disk_space(2.0)\n",
    "print(myobject.disk_space) \n",
    "print(myobject.has_enough_disk_space(10.0))  \n"
   ]
  },
  {
   "cell_type": "code",
   "execution_count": 12,
   "metadata": {},
   "outputs": [
    {
     "name": "stdout",
     "output_type": "stream",
     "text": [
      "Area: 314.16\n",
      "Circumference: 62.83\n"
     ]
    }
   ],
   "source": [
    "# Exercise 7.6\n",
    "from math import pi\n",
    "\n",
    "class Circle:\n",
    "    def __init__(self, radius):\n",
    "        self.radius = radius\n",
    "\n",
    "    def find_area(self):\n",
    "        self.area = pi * self.radius**2\n",
    "        return round(self.area, 2)\n",
    "\n",
    "    def find_circumference(self):\n",
    "        self.circumference = pi * 2 * self.radius\n",
    "        return round(self.circumference, 2)\n",
    "\n",
    "my_circle = Circle(10)\n",
    "print(\"Area:\", my_circle.find_area())\n",
    "print(\"Circumference:\", my_circle.find_circumference()) \n"
   ]
  }
 ],
 "metadata": {
  "kernelspec": {
   "display_name": "myenv",
   "language": "python",
   "name": "python3"
  },
  "language_info": {
   "codemirror_mode": {
    "name": "ipython",
    "version": 3
   },
   "file_extension": ".py",
   "mimetype": "text/x-python",
   "name": "python",
   "nbconvert_exporter": "python",
   "pygments_lexer": "ipython3",
   "version": "3.11.9"
  }
 },
 "nbformat": 4,
 "nbformat_minor": 2
}
