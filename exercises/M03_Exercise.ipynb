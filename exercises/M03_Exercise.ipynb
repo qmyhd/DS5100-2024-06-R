{
 "cells": [
  {
   "cell_type": "code",
   "execution_count": null,
   "id": "0190af96-54ff-43b1-9ff6-85bac58af7d7",
   "metadata": {
    "tags": []
   },
   "outputs": [],
   "source": [
    "val=5\n",
    "\n",
    "if -10< val <-5:\n",
    "    print('bucket1')\n",
    "elif -5 <= val <-2:\n",
    "    print('bucket 2')\n",
    "elif val == -2:\n",
    "    print('bucket 3')"
   ]
  },
  {
   "cell_type": "markdown",
   "id": "483cb99b-2022-4411-b3d7-91eaf5d1aa55",
   "metadata": {},
   "source": [
    "Nothing happens"
   ]
  },
  {
   "cell_type": "code",
   "execution_count": 1,
   "id": "3dd86b66-242a-4e66-b247-c9620409cede",
   "metadata": {
    "tags": []
   },
   "outputs": [
    {
     "name": "stdout",
     "output_type": "stream",
     "text": [
      "bucket 4\n"
     ]
    }
   ],
   "source": [
    "val=5\n",
    "\n",
    "if -10< val <-5:\n",
    "    print('bucket1')\n",
    "elif -5 <= val <-2:\n",
    "    print('bucket 2')\n",
    "elif val == -2:\n",
    "    print('bucket 3')\n",
    "else:\n",
    "    print('bucket 4')"
   ]
  },
  {
   "cell_type": "code",
   "execution_count": 2,
   "id": "b19a32e4-0193-4f5d-8556-c20739d0864c",
   "metadata": {
    "tags": []
   },
   "outputs": [
    {
     "name": "stdout",
     "output_type": "stream",
     "text": [
      "-2\n",
      "max_val\n",
      "0\n",
      "5\n",
      "6\n"
     ]
    }
   ],
   "source": [
    "xx = [-2,8,0,5,6]\n",
    "max_val = max(xx)\n",
    "for val in xx:\n",
    "    if val < max_val:\n",
    "        print(val)\n",
    "    else:\n",
    "        print('max_val')\n",
    "    "
   ]
  },
  {
   "cell_type": "code",
   "execution_count": 3,
   "id": "0d89ae15-d11a-4cb5-9df1-ece7f98bde85",
   "metadata": {
    "tags": []
   },
   "outputs": [
    {
     "name": "stdout",
     "output_type": "stream",
     "text": [
      "0\n",
      "10\n",
      "20\n",
      "30\n",
      "40\n",
      "50\n",
      "60\n",
      "70\n",
      "80\n",
      "90\n"
     ]
    }
   ],
   "source": [
    "it = 0 \n",
    "max_iter = 100\n",
    "while it < max_iter:\n",
    "    if (it == 0) or (it % 10 == 0):\n",
    "        print(it)\n",
    "    it += 1"
   ]
  },
  {
   "cell_type": "code",
   "execution_count": 4,
   "id": "f9783cfc-f979-4ef5-903d-eb868da4792e",
   "metadata": {},
   "outputs": [
    {
     "name": "stdout",
     "output_type": "stream",
     "text": [
      "alabama\n",
      "colorado\n",
      "texas\n",
      "virginia\n"
     ]
    }
   ],
   "source": [
    "states = [ 'Alabama', 'Colorado', 'Texas', 'Virginia']\n",
    "for st in states:\n",
    "    print(st.lower())"
   ]
  },
  {
   "cell_type": "code",
   "execution_count": 6,
   "id": "7d0e93f7-30a3-49af-a6b2-325ab5712729",
   "metadata": {},
   "outputs": [
    {
     "name": "stdout",
     "output_type": "stream",
     "text": [
      "alabama\n",
      "colorado\n",
      "texas\n",
      "virginia\n"
     ]
    }
   ],
   "source": [
    "_ = [print(st.lower()) for st in states]"
   ]
  },
  {
   "cell_type": "code",
   "execution_count": 8,
   "id": "050845c7-69b0-4036-88bc-289301e6869e",
   "metadata": {
    "tags": []
   },
   "outputs": [
    {
     "name": "stdout",
     "output_type": "stream",
     "text": [
      "['Alabama', 'Colorado', 'Texas', 'Virginia']\n",
      "['Alabama', 'Colorado', 'Texas', 'Virginia']\n",
      "['Alabama', 'Colorado', 'Texas', 'Virginia']\n",
      "['Alabama', 'Colorado', 'Texas', 'Virginia']\n"
     ]
    }
   ],
   "source": [
    "s= iter(states)\n",
    "for st in iter(s):\n",
    "    print(states)    "
   ]
  },
  {
   "cell_type": "code",
   "execution_count": 9,
   "id": "e2d89ca4-8208-4a68-a160-5d6b533720e5",
   "metadata": {
    "tags": []
   },
   "outputs": [
    {
     "name": "stdout",
     "output_type": "stream",
     "text": [
      "Palo Alto 94306\n",
      "Frisco 76706\n"
     ]
    }
   ],
   "source": [
    "cities = {'Palo Alto': 94306, 'Frisco':76706}\n",
    "for ci, zi in cities.items(): \n",
    "    print(ci,zi)\n",
    "       "
   ]
  },
  {
   "cell_type": "code",
   "execution_count": 10,
   "id": "9afdb75f-e678-49de-98b8-fcd908bb28f1",
   "metadata": {
    "tags": []
   },
   "outputs": [
    {
     "name": "stdout",
     "output_type": "stream",
     "text": [
      "Palo Alto 94306\n",
      "Frisco 76706\n"
     ]
    }
   ],
   "source": [
    "print(\"\\n\".join([f\"{ci} {zi}\" for ci, zi in cities.items()]))"
   ]
  },
  {
   "cell_type": "code",
   "execution_count": 12,
   "id": "ff528d31-fa1f-448d-99c9-99e89fe9470c",
   "metadata": {
    "tags": []
   },
   "outputs": [
    {
     "name": "stdout",
     "output_type": "stream",
     "text": [
      "Palo Alto 94306\n",
      "Frisco 76706\n"
     ]
    }
   ],
   "source": [
    "for ci in cities.keys():\n",
    "    print(ci, cities[ci])"
   ]
  },
  {
   "cell_type": "code",
   "execution_count": 13,
   "id": "7c7a48d4-7ee2-46df-93c6-a8bb4559110b",
   "metadata": {
    "tags": []
   },
   "outputs": [
    {
     "data": {
      "text/plain": [
       "[1, 64, 512, 1000, 13824, 474552]"
      ]
     },
     "execution_count": 13,
     "metadata": {},
     "output_type": "execute_result"
    }
   ],
   "source": [
    "numbers = [1,4,8,10,24,78]\n",
    "cubes = [num**3 for num in numbers]\n",
    "cubes"
   ]
  },
  {
   "cell_type": "code",
   "execution_count": 14,
   "id": "e224cf9d-563f-4775-a7e2-be716351cd06",
   "metadata": {
    "tags": []
   },
   "outputs": [
    {
     "data": {
      "text/plain": [
       "['21', '7', '10', '16']"
      ]
     },
     "execution_count": 14,
     "metadata": {},
     "output_type": "execute_result"
    }
   ],
   "source": [
    "list01= ['21', 'Dog', 'Purple', '7', 'Cheese','10', '16']\n",
    "numbers = [val for val in list01 if val.isdigit()]\n",
    "numbers"
   ]
  }
 ],
 "metadata": {
  "kernelspec": {
   "display_name": "Python 3 (ipykernel)",
   "language": "python",
   "name": "python3"
  },
  "language_info": {
   "codemirror_mode": {
    "name": "ipython",
    "version": 3
   },
   "file_extension": ".py",
   "mimetype": "text/x-python",
   "name": "python",
   "nbconvert_exporter": "python",
   "pygments_lexer": "ipython3",
   "version": "3.11.4"
  },
  "toc-showtags": true
 },
 "nbformat": 4,
 "nbformat_minor": 5
}
