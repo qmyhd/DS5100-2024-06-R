{
 "cells": [
  {
   "cell_type": "code",
   "execution_count": 13,
   "metadata": {},
   "outputs": [
    {
     "name": "stdout",
     "output_type": "stream",
     "text": [
      "runtime is 0.018991708755493164\n"
     ]
    }
   ],
   "source": [
    "# Exercise 5.1\n",
    "import time\n",
    "t0 = time.time()\n",
    "odds = []\n",
    "for n in range(1, 100001):\n",
    "    if n % 2 == 1:\n",
    "        odds.append(-n)\n",
    "print(f'runtime is {time.time() - t0}')"
   ]
  },
  {
   "cell_type": "code",
   "execution_count": 15,
   "metadata": {},
   "outputs": [
    {
     "name": "stdout",
     "output_type": "stream",
     "text": [
      "runtime:  0.03000783920288086\n"
     ]
    }
   ],
   "source": [
    "# Exercise 5.2\n",
    "t0 = time.time()\n",
    "vals = [-n for n in range(1, 100001) if n % 2 == 1]\n",
    "print('runtime: ', time.time() - t0)\n"
   ]
  },
  {
   "cell_type": "code",
   "execution_count": 16,
   "metadata": {},
   "outputs": [
    {
     "name": "stdout",
     "output_type": "stream",
     "text": [
      "1, 4, 4, 2, 2, 4, 1, 5, 6, 2\n"
     ]
    }
   ],
   "source": [
    "# Exercise 5.3\n",
    "import numpy as np\n",
    "r_integers = [str(num) for num in np.random.randint(1, 7, 10)]\n",
    "print(', '.join(r_integers))\n"
   ]
  },
  {
   "cell_type": "code",
   "execution_count": 18,
   "metadata": {},
   "outputs": [
    {
     "name": "stdout",
     "output_type": "stream",
     "text": [
      "<class 'int'>\n",
      "<class 'numpy.ndarray'>\n"
     ]
    }
   ],
   "source": [
    "# Exercise 5.4\n",
    "# single random integer and its type\n",
    "s_random = np.random.randint(1, 22)\n",
    "print(type(s_random))\n",
    "\n",
    "# 5 random integers between 1 and 21 and their type\n",
    "f_random = np.random.randint(1, 22, 5)\n",
    "print(type(f_random))"
   ]
  },
  {
   "cell_type": "code",
   "execution_count": 19,
   "metadata": {},
   "outputs": [
    {
     "data": {
      "text/plain": [
       "(array([1., 1., 0., 0., 1., 0., 0., 0., 1., 1.]),\n",
       " array([ 4. ,  5.7,  7.4,  9.1, 10.8, 12.5, 14.2, 15.9, 17.6, 19.3, 21. ]),\n",
       " <BarContainer object of 10 artists>)"
      ]
     },
     "execution_count": 19,
     "metadata": {},
     "output_type": "execute_result"
    },
    {
     "data": {
      "image/png": "[encoded data removed]",
      "text/plain": [
       "<Figure size 640x480 with 1 Axes>"
      ]
     },
     "metadata": {},
     "output_type": "display_data"
    }
   ],
   "source": [
    "# Exercise 5.5\n",
    "from matplotlib.pyplot import hist\n",
    "hist(f_random)"
   ]
  },
  {
   "cell_type": "code",
   "execution_count": 21,
   "metadata": {},
   "outputs": [
    {
     "name": "stdout",
     "output_type": "stream",
     "text": [
      "[[-0.22441189  0.16568266  0.04926457]\n",
      " [-0.66191505 -0.55947115  0.22586519]]\n"
     ]
    }
   ],
   "source": [
    "# Exercise 5.6\n",
    "matrix23 = np.random.randn(2, 3)\n",
    "print(matrix23)\n"
   ]
  },
  {
   "cell_type": "code",
   "execution_count": 22,
   "metadata": {},
   "outputs": [
    {
     "name": "stdout",
     "output_type": "stream",
     "text": [
      "[[-0.44882378  0.33136533  0.09852915]\n",
      " [-1.3238301  -1.11894231  0.45173038]]\n"
     ]
    }
   ],
   "source": [
    "# Exercise 5.7\n",
    "multiplied = matrix23 * 2\n",
    "print(multiplied)\n"
   ]
  },
  {
   "cell_type": "code",
   "execution_count": 23,
   "metadata": {},
   "outputs": [
    {
     "name": "stdout",
     "output_type": "stream",
     "text": [
      "[[-0.44882378  0.33136533  0.09852915]\n",
      " [-1.3238301  -1.11894231  0.45173038]]\n"
     ]
    }
   ],
   "source": [
    "# Exercise 5.8\n",
    "added = matrix23 + matrix23\n",
    "print(added)\n"
   ]
  },
  {
   "cell_type": "code",
   "execution_count": 24,
   "metadata": {},
   "outputs": [
    {
     "name": "stdout",
     "output_type": "stream",
     "text": [
      "[[-4.45609188  6.03563449 20.29856215]\n",
      " [-1.51076788 -1.78740225  4.42741975]]\n"
     ]
    }
   ],
   "source": [
    "# Exercise 5.9\n",
    "inverse= 1 / matrix23\n",
    "print(inverse)\n"
   ]
  },
  {
   "cell_type": "code",
   "execution_count": 25,
   "metadata": {},
   "outputs": [
    {
     "name": "stdout",
     "output_type": "stream",
     "text": [
      "[[0. 0. 0. 0.]\n",
      " [0. 0. 0. 0.]]\n",
      "[[1. 1. 1. 1.]\n",
      " [1. 1. 1. 1.]]\n"
     ]
    }
   ],
   "source": [
    "# Exercise 5.10\n",
    "\n",
    "zeroray = np.zeros((2, 4))\n",
    "oneray = np.ones((2, 4))\n",
    "print(zeroray)\n",
    "print(oneray)"
   ]
  },
  {
   "cell_type": "code",
   "execution_count": 26,
   "metadata": {},
   "outputs": [
    {
     "name": "stdout",
     "output_type": "stream",
     "text": [
      "[[1. 0. 0. 0.]\n",
      " [0. 1. 0. 0.]\n",
      " [0. 0. 1. 0.]\n",
      " [0. 0. 0. 1.]]\n"
     ]
    }
   ],
   "source": [
    "# Exercise 5.11\n",
    "identity = np.eye(4)\n",
    "print(identity)"
   ]
  },
  {
   "cell_type": "code",
   "execution_count": 27,
   "metadata": {},
   "outputs": [
    {
     "name": "stdout",
     "output_type": "stream",
     "text": [
      "[0.15232434 0.62260886 0.20875202 0.22360716 0.88067291]\n",
      "[0.20875202 0.22360716 0.88067291]\n",
      "[0.62260886 0.20875202 0.22360716]\n"
     ]
    }
   ],
   "source": [
    "# Exercise 5.12\n",
    "r_vec = np.random.rand(5)\n",
    "print(r_vec)\n",
    "print(r_vec[2:])  \n",
    "print(r_vec[1:-1])  "
   ]
  },
  {
   "cell_type": "code",
   "execution_count": 29,
   "metadata": {},
   "outputs": [
    {
     "name": "stdout",
     "output_type": "stream",
     "text": [
      "[0.15232434 0.62260886 0.20875202 0.22360716 0.88067291]\n"
     ]
    }
   ],
   "source": [
    "# Exercise 5.13\n",
    "condition= r_vec > 0.15\n",
    "print(r_vec[condition])"
   ]
  }
 ],
 "metadata": {
  "kernelspec": {
   "display_name": "myenv",
   "language": "python",
   "name": "python3"
  },
  "language_info": {
   "codemirror_mode": {
    "name": "ipython",
    "version": 3
   },
   "file_extension": ".py",
   "mimetype": "text/x-python",
   "name": "python",
   "nbconvert_exporter": "python",
   "pygments_lexer": "ipython3",
   "version": "3.11.9"
  }
 },
 "nbformat": 4,
 "nbformat_minor": 2
}
