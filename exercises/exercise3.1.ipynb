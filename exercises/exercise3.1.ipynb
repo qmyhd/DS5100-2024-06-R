{
 "cells": [
  {
   "cell_type": "code",
   "execution_count": 2,
   "id": "0190af96-54ff-43b1-9ff6-85bac58af7d7",
   "metadata": {
    "tags": []
   },
   "outputs": [],
   "source": [
    "val=5\n",
    "\n",
    "if -10< val <-5:\n",
    "    print('bucket1')\n",
    "elif -5 <= val <-2:\n",
    "    print('bucket 2')\n",
    "elif val == -2:\n",
    "    print('bucket 3')"
   ]
  },
  {
   "cell_type": "markdown",
   "id": "483cb99b-2022-4411-b3d7-91eaf5d1aa55",
   "metadata": {},
   "source": [
    "Nothing happens"
   ]
  },
  {
   "cell_type": "code",
   "execution_count": 3,
   "id": "3dd86b66-242a-4e66-b247-c9620409cede",
   "metadata": {
    "tags": []
   },
   "outputs": [
    {
     "name": "stdout",
     "output_type": "stream",
     "text": [
      "bucket 4\n"
     ]
    }
   ],
   "source": [
    "val=5\n",
    "\n",
    "if -10< val <-5:\n",
    "    print('bucket1')\n",
    "elif -5 <= val <-2:\n",
    "    print('bucket 2')\n",
    "elif val == -2:\n",
    "    print('bucket 3')\n",
    "else:\n",
    "    print('bucket 4')"
   ]
  },
  {
   "cell_type": "code",
   "execution_count": null,
   "id": "b19a32e4-0193-4f5d-8556-c20739d0864c",
   "metadata": {},
   "outputs": [],
   "source": []
  }
 ],
 "metadata": {
  "kernelspec": {
   "display_name": "Python 3 (ipykernel)",
   "language": "python",
   "name": "python3"
  },
  "language_info": {
   "codemirror_mode": {
    "name": "ipython",
    "version": 3
   },
   "file_extension": ".py",
   "mimetype": "text/x-python",
   "name": "python",
   "nbconvert_exporter": "python",
   "pygments_lexer": "ipython3",
   "version": "3.11.4"
  }
 },
 "nbformat": 4,
 "nbformat_minor": 5
}
