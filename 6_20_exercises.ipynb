{
 "cells": [
  {
   "cell_type": "code",
   "execution_count": null,
   "id": "73f50ded-074b-4adf-8d86-551e4b81f72b",
   "metadata": {},
   "outputs": [],
   "source": [
    "# 3.1"
   ]
  },
  {
   "cell_type": "code",
   "execution_count": 1,
   "id": "6ff2975e-9206-43fd-9e66-f081b72c8b99",
   "metadata": {
    "tags": []
   },
   "outputs": [
    {
     "name": "stdout",
     "output_type": "stream",
     "text": [
      "bucket 3\n"
     ]
    }
   ],
   "source": [
    "val = -2\n",
    "\n",
    "if -10 < val < -5:\n",
    "    print('bucket 1')\n",
    "elif -5 <= val < -2:\n",
    "    print('bucket 2')\n",
    "elif val == -2:\n",
    "    print('bucket 3')\n",
    "    \n",
    "# bucket 3 if val = -2, nothing returns if val = 5\n",
    "\n",
    "# To fix problem, add an else statement (ex: else: \n",
    "                                                # print('bucket 4'))"
   ]
  },
  {
   "cell_type": "code",
   "execution_count": 2,
   "id": "ae38199f-8c9d-4f2f-86a1-6b65df4084fc",
   "metadata": {
    "tags": []
   },
   "outputs": [],
   "source": [
    "# 3.2"
   ]
  },
  {
   "cell_type": "code",
   "execution_count": 7,
   "id": "b7d140f1-f4f5-459d-9ee9-219e60210782",
   "metadata": {
    "tags": []
   },
   "outputs": [
    {
     "name": "stdout",
     "output_type": "stream",
     "text": [
      "-2\n",
      "max val\n",
      "0\n",
      "5\n",
      "6\n"
     ]
    }
   ],
   "source": [
    "xx = [-2, 8, 0, 5, 6]\n",
    "max_val = max(xx)\n",
    "for x in xx:\n",
    "    if x < (max_val):\n",
    "        print(x)\n",
    "    else: \n",
    "        print(\"max val\")"
   ]
  },
  {
   "cell_type": "code",
   "execution_count": 1,
   "id": "a0cc8453-c77e-43ca-8955-159a57742551",
   "metadata": {},
   "outputs": [],
   "source": [
    "# 3.3 - saving issues with this one (completed the rest of questions in PyCharm, copy and pasting below)"
   ]
  },
  {
   "cell_type": "code",
   "execution_count": 2,
   "id": "b7de83e4-028b-470c-818e-9d42405d2ad5",
   "metadata": {
    "tags": []
   },
   "outputs": [],
   "source": [
    "# 3.4 "
   ]
  },
  {
   "cell_type": "code",
   "execution_count": 3,
   "id": "cd6d1404-2309-4c14-8d0f-cfe716c36da0",
   "metadata": {
    "tags": []
   },
   "outputs": [
    {
     "name": "stdout",
     "output_type": "stream",
     "text": [
      "virginia\n",
      "kentucky\n",
      "wyoming\n",
      "montana\n"
     ]
    }
   ],
   "source": [
    "# 3.4\n",
    "\n",
    "my_list = ['Virginia', 'Kentucky', 'Wyoming', 'Montana']\n",
    "for i in my_list:\n",
    "  print(i.lower())"
   ]
  },
  {
   "cell_type": "code",
   "execution_count": 4,
   "id": "e67a5533-18d4-4ce9-9bf0-ee87378163c3",
   "metadata": {
    "tags": []
   },
   "outputs": [],
   "source": [
    "# 3.5"
   ]
  },
  {
   "cell_type": "code",
   "execution_count": 5,
   "id": "8abc95da-515e-4467-b7b1-2db4ac7dfe1f",
   "metadata": {
    "tags": []
   },
   "outputs": [
    {
     "name": "stdout",
     "output_type": "stream",
     "text": [
      "Virginia\n",
      "Kentucky\n",
      "Wyoming\n",
      "Montana\n"
     ]
    }
   ],
   "source": [
    "my_list = ['Virginia', 'Kentucky', 'Wyoming', 'Montana']\n",
    "my_it = iter(my_list)\n",
    "print(next(my_it))\n",
    "print(next(my_it))\n",
    "print(next(my_it))\n",
    "print(next(my_it))"
   ]
  },
  {
   "cell_type": "code",
   "execution_count": 6,
   "id": "5268073c-e00b-404b-8351-684c22bdac3a",
   "metadata": {
    "tags": []
   },
   "outputs": [],
   "source": [
    "# 3.6"
   ]
  },
  {
   "cell_type": "code",
   "execution_count": 7,
   "id": "766832c7-7657-474c-9f9e-b21736bab5b9",
   "metadata": {
    "tags": []
   },
   "outputs": [],
   "source": [
    "# city_dict: {\n",
    "#  'Charlottesville': 22903,\n",
    "#  'Ivy': 22902\n",
    "#}\n",
    "\n",
    "#for k, v in city_dict.items():\n",
    "#  print(k, v)"
   ]
  },
  {
   "cell_type": "code",
   "execution_count": 8,
   "id": "8e598729-0ecc-4f5c-82cd-f3f0e50462b1",
   "metadata": {
    "tags": []
   },
   "outputs": [],
   "source": [
    "# 3.7"
   ]
  },
  {
   "cell_type": "code",
   "execution_count": 9,
   "id": "67ef7b74-c7aa-4826-88f2-8274ec114db0",
   "metadata": {
    "tags": []
   },
   "outputs": [],
   "source": [
    "#for k, v in city_dict.keys():\n",
    "#  print(k, v[k])"
   ]
  },
  {
   "cell_type": "code",
   "execution_count": 10,
   "id": "98882fdb-af13-498c-a099-d0cfe2693c4a",
   "metadata": {
    "tags": []
   },
   "outputs": [],
   "source": [
    "# 3.8"
   ]
  },
  {
   "cell_type": "code",
   "execution_count": 11,
   "id": "4eed7057-afc7-4439-8fcb-5d5403ecf23c",
   "metadata": {
    "tags": []
   },
   "outputs": [
    {
     "name": "stdout",
     "output_type": "stream",
     "text": [
      "1\n",
      "8\n",
      "27\n",
      "64\n"
     ]
    }
   ],
   "source": [
    "cube_list = [1, 2, 3, 4]\n",
    "for i in cube_list:\n",
    "  print(i**3)"
   ]
  },
  {
   "cell_type": "code",
   "execution_count": 12,
   "id": "7c11d93f-55c9-45a2-a8ed-b352a3a87e47",
   "metadata": {
    "tags": []
   },
   "outputs": [],
   "source": [
    "# 3.9"
   ]
  },
  {
   "cell_type": "code",
   "execution_count": null,
   "id": "f0d63a95-8fd6-4174-8583-a5b1d6b541c1",
   "metadata": {
    "tags": []
   },
   "outputs": [],
   "source": [
    "mixed_list = ['1', 'two', '3', 'four', 'five', '6', '7']\n",
    "for i in mixed_list:\n",
    "  is_num = True\n",
    "\n",
    "  for char in i:\n",
    "    if char not in mixed_list:\n",
    "      is_num = False\n",
    "      break\n",
    "\n",
    "    if is_num:\n",
    "      mixed_list.append(i)\n",
    "\n",
    "print(mixed_list)"
   ]
  },
  {
   "cell_type": "code",
   "execution_count": null,
   "id": "37053126-212e-4c04-a071-0b3dceb918ca",
   "metadata": {},
   "outputs": [],
   "source": []
  }
 ],
 "metadata": {
  "kernelspec": {
   "display_name": "Python 3 (ipykernel)",
   "language": "python",
   "name": "python3"
  },
  "language_info": {
   "codemirror_mode": {
    "name": "ipython",
    "version": 3
   },
   "file_extension": ".py",
   "mimetype": "text/x-python",
   "name": "python",
   "nbconvert_exporter": "python",
   "pygments_lexer": "ipython3",
   "version": "3.11.4"
  }
 },
 "nbformat": 4,
 "nbformat_minor": 5
}
