{
 "cells": [
  {
   "cell_type": "markdown",
   "id": "cb978aac-cfbd-4dfe-bf0e-2ef5634acf00",
   "metadata": {
    "tags": []
   },
   "source": [
    "# My Notenook"
   ]
  },
  {
   "cell_type": "code",
   "execution_count": 1,
   "id": "10fd8b40-b442-4876-aa59-400ed7fcbe9c",
   "metadata": {
    "tags": []
   },
   "outputs": [],
   "source": [
    "my_list = [1, 2, 3]"
   ]
  },
  {
   "cell_type": "code",
   "execution_count": 2,
   "id": "ae66951d-3297-4001-b2b7-7353047bdca0",
   "metadata": {
    "tags": []
   },
   "outputs": [
    {
     "data": {
      "text/plain": [
       "[1, 2, 3]"
      ]
     },
     "execution_count": 2,
     "metadata": {},
     "output_type": "execute_result"
    }
   ],
   "source": [
    "my_list"
   ]
  },
  {
   "cell_type": "code",
   "execution_count": 3,
   "id": "401bcf51-1412-40a0-9728-d16d0ba8adda",
   "metadata": {
    "tags": []
   },
   "outputs": [
    {
     "data": {
      "text/plain": [
       "list"
      ]
     },
     "execution_count": 3,
     "metadata": {},
     "output_type": "execute_result"
    }
   ],
   "source": [
    "type(my_list)"
   ]
  },
  {
   "cell_type": "markdown",
   "id": "7b38c6c9-723e-4f05-b6f4-5dd73020d3e6",
   "metadata": {},
   "source": [
    "# Next Task"
   ]
  },
  {
   "cell_type": "code",
   "execution_count": 5,
   "id": "e41e2102-f8bc-4628-ae46-02408bc322e6",
   "metadata": {
    "tags": []
   },
   "outputs": [
    {
     "data": {
      "text/plain": [
       "'abc'"
      ]
     },
     "execution_count": 5,
     "metadata": {},
     "output_type": "execute_result"
    }
   ],
   "source": [
    "my_string = 'abcdefghi'\n",
    "my_string[:3]"
   ]
  },
  {
   "cell_type": "code",
   "execution_count": 6,
   "id": "b4aa70b1-24b8-4c42-ab93-cc97af1f1aba",
   "metadata": {
    "tags": []
   },
   "outputs": [
    {
     "data": {
      "text/plain": [
       "'ghi'"
      ]
     },
     "execution_count": 6,
     "metadata": {},
     "output_type": "execute_result"
    }
   ],
   "source": [
    "my_string[-3:]"
   ]
  },
  {
   "cell_type": "code",
   "execution_count": 7,
   "id": "340fe4b2-1358-4d56-94e8-5bd448fe176c",
   "metadata": {
    "tags": []
   },
   "outputs": [
    {
     "data": {
      "text/plain": [
       "2"
      ]
     },
     "execution_count": 7,
     "metadata": {},
     "output_type": "execute_result"
    }
   ],
   "source": [
    "my_list = [1, 2, 3]\n",
    "my_list[1]"
   ]
  },
  {
   "cell_type": "code",
   "execution_count": 9,
   "id": "3f556720-6b33-4b8b-9dce-73ce3fcf03fa",
   "metadata": {
    "tags": []
   },
   "outputs": [
    {
     "ename": "AttributeError",
     "evalue": "'tuple' object has no attribute 'append'",
     "output_type": "error",
     "traceback": [
      "\u001b[0;31m---------------------------------------------------------------------------\u001b[0m",
      "\u001b[0;31mAttributeError\u001b[0m                            Traceback (most recent call last)",
      "Cell \u001b[0;32mIn[9], line 2\u001b[0m\n\u001b[1;32m      1\u001b[0m my_tuple \u001b[38;5;241m=\u001b[39m (\u001b[38;5;241m1\u001b[39m, \u001b[38;5;241m2\u001b[39m, \u001b[38;5;241m3\u001b[39m)\n\u001b[0;32m----> 2\u001b[0m \u001b[43mmy_tuple\u001b[49m\u001b[38;5;241;43m.\u001b[39;49m\u001b[43mappend\u001b[49m(\u001b[38;5;241m4\u001b[39m)\n",
      "\u001b[0;31mAttributeError\u001b[0m: 'tuple' object has no attribute 'append'"
     ]
    }
   ],
   "source": []
  },
  {
   "cell_type": "code",
   "execution_count": 10,
   "id": "43ff6f2e-92a2-4062-8ce7-8d447c248aaa",
   "metadata": {},
   "outputs": [],
   "source": [
    "# I think there was one more question but I didn't quite catch it since I was trying to troubleshoot the above"
   ]
  },
  {
   "cell_type": "code",
   "execution_count": 11,
   "id": "84202baa-3b8f-4b44-87a2-8b6713549fb7",
   "metadata": {
    "tags": []
   },
   "outputs": [
    {
     "name": "stdout",
     "output_type": "stream",
     "text": [
      "Hello World!\n"
     ]
    }
   ],
   "source": [
    "print(\"Hello World!\") # from the lab portion of today"
   ]
  },
  {
   "cell_type": "code",
   "execution_count": null,
   "id": "1f349ccf-812d-4db1-a136-6765c720ac0f",
   "metadata": {},
   "outputs": [],
   "source": []
  }
 ],
 "metadata": {
  "kernelspec": {
   "display_name": "Python 3 (ipykernel)",
   "language": "python",
   "name": "python3"
  },
  "language_info": {
   "codemirror_mode": {
    "name": "ipython",
    "version": 3
   },
   "file_extension": ".py",
   "mimetype": "text/x-python",
   "name": "python",
   "nbconvert_exporter": "python",
   "pygments_lexer": "ipython3",
   "version": "3.11.4"
  }
 },
 "nbformat": 4,
 "nbformat_minor": 5
}
