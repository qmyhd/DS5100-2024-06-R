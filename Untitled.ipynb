{
 "cells": [
  {
   "cell_type": "markdown",
   "id": "450869f9-37af-4797-b737-97395cc3ed88",
   "metadata": {},
   "source": [
    "M02 Exercises"
   ]
  },
  {
   "cell_type": "code",
   "execution_count": 5,
   "id": "bc83b424-6369-4644-87c5-53425f07ef03",
   "metadata": {
    "tags": []
   },
   "outputs": [
    {
     "name": "stdout",
     "output_type": "stream",
     "text": [
      "first three characters: Dat\n",
      "last three characters: nce\n"
     ]
    }
   ],
   "source": [
    "#1\n",
    "exstring = \"Data Science\"\n",
    "\n",
    "print(\"first three characters:\", exstring[:3])\n",
    "print(\"last three characters:\", exstring[-3:])\n"
   ]
  },
  {
   "cell_type": "code",
   "execution_count": 6,
   "id": "851d2ea2-db39-46a3-b08c-976ccfdcfd71",
   "metadata": {
    "tags": []
   },
   "outputs": [
    {
     "name": "stdout",
     "output_type": "stream",
     "text": [
      "second element: 2\n"
     ]
    }
   ],
   "source": [
    "#2\n",
    "exlist = [1, 2, 3]\n",
    "print(\"second element:\", exlist[1])\n"
   ]
  },
  {
   "cell_type": "code",
   "execution_count": 9,
   "id": "03438987-1ba7-4fd3-9148-389e3bffaf42",
   "metadata": {
    "tags": []
   },
   "outputs": [
    {
     "ename": "AttributeError",
     "evalue": "'tuple' object has no attribute 'append'",
     "output_type": "error",
     "traceback": [
      "\u001b[0;31m---------------------------------------------------------------------------\u001b[0m",
      "\u001b[0;31mAttributeError\u001b[0m                            Traceback (most recent call last)",
      "Cell \u001b[0;32mIn[9], line 3\u001b[0m\n\u001b[1;32m      1\u001b[0m \u001b[38;5;66;03m#3\u001b[39;00m\n\u001b[1;32m      2\u001b[0m extuple \u001b[38;5;241m=\u001b[39m (\u001b[38;5;241m1\u001b[39m, \u001b[38;5;241m2\u001b[39m, \u001b[38;5;241m3\u001b[39m)\n\u001b[0;32m----> 3\u001b[0m \u001b[43mextuple\u001b[49m\u001b[38;5;241;43m.\u001b[39;49m\u001b[43mappend\u001b[49m(\u001b[38;5;241m4\u001b[39m)\n\u001b[1;32m      4\u001b[0m \u001b[38;5;66;03m#tupples not appendable\u001b[39;00m\n",
      "\u001b[0;31mAttributeError\u001b[0m: 'tuple' object has no attribute 'append'"
     ]
    }
   ],
   "source": [
    "#3\n",
    "extuple = (1, 2, 3)\n",
    "extuple.append(4)\n",
    "#tupples not appendable"
   ]
  },
  {
   "cell_type": "code",
   "execution_count": 14,
   "id": "6c8700b1-9184-4f8e-8713-1407a54037d4",
   "metadata": {
    "tags": []
   },
   "outputs": [
    {
     "name": "stdout",
     "output_type": "stream",
     "text": [
      "\"hello\" is in the set.\n"
     ]
    }
   ],
   "source": [
    "#4\n",
    "x = \"hello\"\n",
    "y = {\"hello\", \"coffee\", \"soccer\"}\n",
    "\n",
    "if x in y:\n",
    "    print(f'\"{x}\" is in the set.')\n",
    "else:\n",
    "    print(f'\"{x}\" is not in the set.')"
   ]
  },
  {
   "cell_type": "code",
   "execution_count": null,
   "id": "a18a31a5-05e4-4954-8b53-4476c6403dea",
   "metadata": {},
   "outputs": [],
   "source": []
  }
 ],
 "metadata": {
  "kernelspec": {
   "display_name": "Python 3 (ipykernel)",
   "language": "python",
   "name": "python3"
  },
  "language_info": {
   "codemirror_mode": {
    "name": "ipython",
    "version": 3
   },
   "file_extension": ".py",
   "mimetype": "text/x-python",
   "name": "python",
   "nbconvert_exporter": "python",
   "pygments_lexer": "ipython3",
   "version": "3.11.4"
  }
 },
 "nbformat": 4,
 "nbformat_minor": 5
}
