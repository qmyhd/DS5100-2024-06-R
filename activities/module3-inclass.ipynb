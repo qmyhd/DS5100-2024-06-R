{
 "cells": [
  {
   "cell_type": "markdown",
   "id": "5db33680-abfa-45b4-a4f4-e23fffcc3c2e",
   "metadata": {},
   "source": [
    "# Module 3 | In-Class"
   ]
  },
  {
   "cell_type": "code",
   "execution_count": 1,
   "id": "e5087172-bc71-49f1-aea8-19ff3366e578",
   "metadata": {
    "tags": []
   },
   "outputs": [
    {
     "data": {
      "text/plain": [
       "{'cnn_1': '15 layers', 'cnn_2': '20 layers'}"
      ]
     },
     "execution_count": 1,
     "metadata": {},
     "output_type": "execute_result"
    }
   ],
   "source": [
    "model_arch = {'cnn_1':'15 layers', 'cnn_2':'20 layers', 'rnn': '10 layers'}\n",
    "\n",
    "# create a new dict containing only key-value pairs where the key contains 'cnn'\n",
    "\n",
    "cnns = {key:value for key, value in model_arch.items() if 'cnn' in key}\n",
    "cnns"
   ]
  },
  {
   "cell_type": "markdown",
   "id": "3fdfdb7e-4702-4621-8aeb-27953de75285",
   "metadata": {},
   "source": [
    "# Exercise 3.2"
   ]
  },
  {
   "cell_type": "code",
   "execution_count": null,
   "id": "ae804c24-fe50-4e44-9bc8-6adb02d920c2",
   "metadata": {
    "tags": []
   },
   "outputs": [],
   "source": [
    "xx = [-2, 8, 0, 5, 6]\n",
    "max_val = max(xx)\n",
    "for val in xx:\n",
    "    print(val) if val < max_val else print(\"max_val\")"
   ]
  },
  {
   "cell_type": "markdown",
   "id": "3d8d26dc-8c47-474e-b9e7-d2d227e91482",
   "metadata": {},
   "source": [
    "# Exercise 3.3"
   ]
  },
  {
   "cell_type": "code",
   "execution_count": null,
   "id": "c33e0158-fd93-4c94-bcbf-3eccb081d75a",
   "metadata": {
    "tags": []
   },
   "outputs": [],
   "source": [
    "it = 0 \n",
    "max_iter = 100\n",
    "while it < max_iter:\n",
    "    if (it == 0) or (it % 10 == 0):\n",
    "        print(it)\n",
    "    it += 1"
   ]
  },
  {
   "cell_type": "markdown",
   "id": "02e58973-5edd-49dd-96c5-f38dc63151e9",
   "metadata": {},
   "source": [
    "# Exercise 3.4"
   ]
  },
  {
   "cell_type": "code",
   "execution_count": null,
   "id": "70edb0d8-fba4-42b4-9d76-e76efad586b4",
   "metadata": {
    "tags": []
   },
   "outputs": [],
   "source": [
    "nouns = [\"Chad\", \"John\", \"Jones\", \"Tom\"]\n",
    "_ = [print(name.lower()) for name in nouns]"
   ]
  },
  {
   "cell_type": "markdown",
   "id": "0ee300f2-5c95-4c5d-9fa5-5c3ae8e6d3a8",
   "metadata": {},
   "source": [
    "# Exercise 3.5"
   ]
  },
  {
   "cell_type": "code",
   "execution_count": null,
   "id": "92835934-fd96-4396-820b-af3bda1ea9da",
   "metadata": {},
   "outputs": [],
   "source": [
    "for name in iter(nouns):\n",
    "    print(name)"
   ]
  },
  {
   "cell_type": "markdown",
   "id": "0fb34ca7-03a3-43d0-909a-49ba91310465",
   "metadata": {},
   "source": [
    "# Exercise 3.6"
   ]
  },
  {
   "cell_type": "code",
   "execution_count": null,
   "id": "5fea8402-543d-4ec4-beb5-2ae3e2f8b1f6",
   "metadata": {},
   "outputs": [],
   "source": [
    "cities = {'Fredericksburg': 22407, \"King George\": 22485}\n",
    "_ = {print(f\"city: {key}, zip: {value}\") for key, value in cities.items()}"
   ]
  },
  {
   "cell_type": "markdown",
   "id": "2102c501-200a-4277-ab4e-95c66e85cd02",
   "metadata": {},
   "source": [
    "# Exercise 3.7"
   ]
  },
  {
   "cell_type": "code",
   "execution_count": null,
   "id": "e0fc1fd3-5e82-4dfa-9c8e-a09c77a6a2a9",
   "metadata": {
    "tags": []
   },
   "outputs": [],
   "source": [
    "_ = {print(f\"city: {city}, zip: {cities[city]}\") for city in cities.keys()}"
   ]
  },
  {
   "cell_type": "markdown",
   "id": "41147e33-fbbd-4a99-a679-80946364f590",
   "metadata": {},
   "source": [
    "# Exercise 3.8"
   ]
  },
  {
   "cell_type": "code",
   "execution_count": null,
   "id": "e704b694-75fa-4b3e-ad86-ee80de3009b9",
   "metadata": {},
   "outputs": [],
   "source": [
    "_ = [print(x**3) for x in [2, 4, 6, 8]]"
   ]
  },
  {
   "cell_type": "markdown",
   "id": "a527ac28-5864-4dc8-b8ed-4093e5c91c90",
   "metadata": {},
   "source": [
    "# Exercise 3.9"
   ]
  },
  {
   "cell_type": "code",
   "execution_count": null,
   "id": "9197c9da-f200-485c-a1d5-64b7f285fcd8",
   "metadata": {},
   "outputs": [],
   "source": [
    "my_list = ['12', 'cat', '1', 'dog', '23', 'birb', '8']\n",
    "print([x for x in my_list if x.isdigit()])"
   ]
  }
 ],
 "metadata": {
  "kernelspec": {
   "display_name": "Python 3 (ipykernel)",
   "language": "python",
   "name": "python3"
  },
  "language_info": {
   "codemirror_mode": {
    "name": "ipython",
    "version": 3
   },
   "file_extension": ".py",
   "mimetype": "text/x-python",
   "name": "python",
   "nbconvert_exporter": "python",
   "pygments_lexer": "ipython3",
   "version": "3.11.4"
  }
 },
 "nbformat": 4,
 "nbformat_minor": 5
}
