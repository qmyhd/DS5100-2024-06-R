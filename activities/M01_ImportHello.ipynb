{
 "cells": [
  {
   "cell_type": "markdown",
   "id": "7a39eabb-1c32-4a6c-858c-a1b105938315",
   "metadata": {},
   "source": [
    "# Hello Exercise\n",
    "\n",
    "Students fork and clone the course repo, then create a file in a specified directory of their local repo.\n",
    "\n",
    "After that they push it to the remote and then initiate a pull request.\n",
    "\n",
    "These requests are merged and then pulled locally here. \n",
    "\n",
    "The results are aggregated and printed below."
   ]
  },
  {
   "cell_type": "code",
   "execution_count": 1,
   "id": "aaaaa06a-7fd7-483b-8707-0fd4b3231363",
   "metadata": {
    "tags": []
   },
   "outputs": [],
   "source": [
    "import glob\n",
    "import pandas as pd"
   ]
  },
  {
   "cell_type": "code",
   "execution_count": 2,
   "id": "1f71bcb5-9fbf-41ea-ba8d-8b8ad0019e0b",
   "metadata": {
    "tags": []
   },
   "outputs": [],
   "source": [
    "data = []\n",
    "files = glob.glob(\"./hello/*_*.txt\")"
   ]
  },
  {
   "cell_type": "code",
   "execution_count": 3,
   "id": "05b45ad7-d400-4e55-8eb4-da0cc7d851f8",
   "metadata": {
    "tags": []
   },
   "outputs": [
    {
     "data": {
      "text/plain": [
       "'./hello/ehe5bn_hello.txt'"
      ]
     },
     "execution_count": 3,
     "metadata": {},
     "output_type": "execute_result"
    }
   ],
   "source": [
    "files[0]"
   ]
  },
  {
   "cell_type": "code",
   "execution_count": 4,
   "id": "70f85b50-7275-4819-b0ac-566ffc84d24b",
   "metadata": {
    "tags": []
   },
   "outputs": [
    {
     "name": "stdout",
     "output_type": "stream",
     "text": [
      "59\n"
     ]
    }
   ],
   "source": [
    "print(len(files))"
   ]
  },
  {
   "cell_type": "code",
   "execution_count": 5,
   "id": "3576e753-ce37-409d-ae52-9c3a6dd22834",
   "metadata": {
    "tags": []
   },
   "outputs": [],
   "source": [
    "n_students = 67"
   ]
  },
  {
   "cell_type": "code",
   "execution_count": 6,
   "id": "e2f371fc-53e6-4053-b4a2-0bce5f4ebd58",
   "metadata": {
    "tags": []
   },
   "outputs": [
    {
     "data": {
      "text/plain": [
       "8"
      ]
     },
     "execution_count": 6,
     "metadata": {},
     "output_type": "execute_result"
    }
   ],
   "source": [
    "n_students - len(files)"
   ]
  },
  {
   "cell_type": "code",
   "execution_count": 7,
   "id": "4a44ab38-4c3e-4e17-a5cc-da98f8a84f0d",
   "metadata": {
    "tags": []
   },
   "outputs": [],
   "source": [
    "for i, file in enumerate(files):\n",
    "    sid = file.split(\"/\")[2].split(\"_\")[0]\n",
    "    line = open(file, 'r').read().strip()\n",
    "    row = (sid, line.replace('\\n', ' '))\n",
    "    data.append(row)"
   ]
  },
  {
   "cell_type": "code",
   "execution_count": 8,
   "id": "844d664a-9b5b-4d0f-93a0-c59e6ef621dd",
   "metadata": {
    "tags": []
   },
   "outputs": [
    {
     "data": {
      "text/plain": [
       "[('ehe5bn', \"Hi, I'm Zach, I just watched Dune, it was pretty good.\"),\n",
       " ('dgr7pb',\n",
       "  'The most recent film you watched and enjoyed was the Lord of the Rings Extended Edition.'),\n",
       " ('fyx6wf', 'The last movie I watched was Hit Man.'),\n",
       " ('eqa7yg', 'Nerd'),\n",
       " ('gec2tp', 'Once Upon A Time In Hollywood'),\n",
       " ('qtf7du',\n",
       "  'Hello, my name is Vishwanath Guruvayur. The most recent movie I watched is Dumb and Dumber.'),\n",
       " ('fjp8ez',\n",
       "  'Hello my name is Javier Alonso. I have not watched a movie as of recently  but I have been watching one piece and I just finished the Whole Cake Island Arc and it was amazing.'),\n",
       " ('ggd8hvd',\n",
       "  'When I was in Panama City Beach the other week I saw \"The Fall Guy\" in movie theaters.'),\n",
       " ('wtc6vz', 'I recently watched and enjoyed a movie called The Fall Guy'),\n",
       " ('skk8kc',\n",
       "  'Hello! My name is Dan. I recently rewatched Saving Private Ryan, which is one of the best movies I have ever seen.'),\n",
       " ('yuk7du', 'Oceans 13'),\n",
       " ('mdg7wj', 'Jurassic Park'),\n",
       " ('jak5je', 'Starstruck'),\n",
       " ('mtb2tgk',\n",
       "  'The most recent film that I have watched and enjoyed was Jurassic Park.'),\n",
       " ('nuf8ms',\n",
       "  'The most recent film I watched and enjoyed was \"Everybody Wants Some\"'),\n",
       " ('svw6dn', 'Suzume'),\n",
       " ('lgs4zj', 'Dune 2'),\n",
       " ('bur6yx', 'The most recent film I watched and enjoyed was Perfect Blue'),\n",
       " ('ak2znr', 'Jurassic Park'),\n",
       " ('ag6ykz', 'The most recent film I watched is Godzilla Minus One.'),\n",
       " ('nps3cs', 'The Fall Guy'),\n",
       " ('rca2t', 'Dune'),\n",
       " ('eqp6pg', 'Inside Out 2'),\n",
       " ('aa7dd', 'Dune: part two'),\n",
       " ('ft8xx',\n",
       "  'The most recent film I enjoyed is called Paper Lives (on Netflix).'),\n",
       " ('qcp6az', 'Jurassic Park'),\n",
       " ('fmt2tg', 'Cast Away'),\n",
       " ('rs7aq',\n",
       "  'Hello my name is Rohan Shroff. The most recent film I watched and enjoyed was The Hill.'),\n",
       " ('unc6kr', 'The idea of you'),\n",
       " ('cwp5xyj', 'Good Will Hunting'),\n",
       " ('bcp8dm',\n",
       "  'My name is Doruk Ozar. The most recent movie I watched was Hit Man in Netflix.'),\n",
       " ('dcy2dq', 'I recently rewatched Yeh Jawaani Hai Deewaani and enjoyed it'),\n",
       " ('tjs5nx',\n",
       "  \"Not a big movie guy, but the most recent movie I've watched and enjoyed was the new Batman movie by DC.\"),\n",
       " ('dbm4bj',\n",
       "  'The most recent film I watched was Madame Web. I enjoyed it becuase it was terrible.'),\n",
       " ('arg8qqv', 'Diary of a Wimpy Kid'),\n",
       " ('wgp3aq', 'Most recent movie: The Lion King'),\n",
       " ('sqr8ap', \"The most recent film I've watched and enjoyed was Sinister.\"),\n",
       " ('jst7ee', 'Dune Pt. 2'),\n",
       " ('ajh5ae', 'The Meg 2'),\n",
       " ('js7jx', 'The Tangerine Bear'),\n",
       " ('ttg6nx', 'The most recent film I watched and enjoyed was The Gentlemen.'),\n",
       " ('czz7bf',\n",
       "  'Hello, my name is Chloe! The most recent movie I watched and  enjoyed was Rio 2'),\n",
       " ('mermora97', 'Nerd'),\n",
       " ('uua9gw', 'The last movie I watched was Inside Out.'),\n",
       " ('zy7ts',\n",
       "  'most rencent movie i watched and enjoyed - Civil War 2024 by A24 studio'),\n",
       " ('xmc6rp', 'Dune 2'),\n",
       " ('urn8he', 'Frozen 2'),\n",
       " ('gnq2mr', 'I recently watched and enjoyed Midsommar'),\n",
       " ('ksg8xy', 'I recently rewatched Dune!'),\n",
       " ('gry6ks', 'crazy rich asians'),\n",
       " ('gbz6qn',\n",
       "  \"Hello! My name is Isaac Levy and a movie I recently watched and enjoyed was 'Wicked Little Letters.'\"),\n",
       " ('ncc9kn',\n",
       "  'Hi! My name is Colby Le.  The most recent movie I watched and enjoyed was Lalaland.'),\n",
       " ('asm2fe', 'Road to Hashira training'),\n",
       " ('kl2jmx',\n",
       "  'The most recent film I watched and enjoyed were the Anchorman series!'),\n",
       " ('fnj7ht', 'Oppenheimer'),\n",
       " ('uqs3dq',\n",
       "  'The most recent film I watched an enjoyed was John Tucker Must Die.'),\n",
       " ('prz3dt', 'Diary of a Wimpy Kid'),\n",
       " ('cpm6gh', 'Jurassic Park'),\n",
       " ('jah9kqn', 'Jurassic Park')]"
      ]
     },
     "execution_count": 8,
     "metadata": {},
     "output_type": "execute_result"
    }
   ],
   "source": [
    "data"
   ]
  },
  {
   "cell_type": "code",
   "execution_count": 9,
   "id": "d639031b-10ed-47ad-a3fd-87ddc9c91d74",
   "metadata": {
    "tags": []
   },
   "outputs": [],
   "source": [
    "df = pd.DataFrame(data, columns=['user_id','comment'])"
   ]
  },
  {
   "cell_type": "code",
   "execution_count": 10,
   "id": "10a21388-8fb6-499f-b7d0-b234de14218d",
   "metadata": {
    "tags": []
   },
   "outputs": [
    {
     "data": {
      "text/html": [
       "<div>\n",
       "<style scoped>\n",
       "    .dataframe tbody tr th:only-of-type {\n",
       "        vertical-align: middle;\n",
       "    }\n",
       "\n",
       "    .dataframe tbody tr th {\n",
       "        vertical-align: top;\n",
       "    }\n",
       "\n",
       "    .dataframe thead th {\n",
       "        text-align: right;\n",
       "    }\n",
       "</style>\n",
       "<table border=\"1\" class=\"dataframe\">\n",
       "  <thead>\n",
       "    <tr style=\"text-align: right;\">\n",
       "      <th></th>\n",
       "      <th>user_id</th>\n",
       "      <th>comment</th>\n",
       "    </tr>\n",
       "  </thead>\n",
       "  <tbody>\n",
       "    <tr>\n",
       "      <th>0</th>\n",
       "      <td>ehe5bn</td>\n",
       "      <td>Hi, I'm Zach, I just watched Dune, it was pret...</td>\n",
       "    </tr>\n",
       "    <tr>\n",
       "      <th>1</th>\n",
       "      <td>dgr7pb</td>\n",
       "      <td>The most recent film you watched and enjoyed w...</td>\n",
       "    </tr>\n",
       "    <tr>\n",
       "      <th>2</th>\n",
       "      <td>fyx6wf</td>\n",
       "      <td>The last movie I watched was Hit Man.</td>\n",
       "    </tr>\n",
       "    <tr>\n",
       "      <th>3</th>\n",
       "      <td>eqa7yg</td>\n",
       "      <td>Nerd</td>\n",
       "    </tr>\n",
       "    <tr>\n",
       "      <th>4</th>\n",
       "      <td>gec2tp</td>\n",
       "      <td>Once Upon A Time In Hollywood</td>\n",
       "    </tr>\n",
       "  </tbody>\n",
       "</table>\n",
       "</div>"
      ],
      "text/plain": [
       "  user_id                                            comment\n",
       "0  ehe5bn  Hi, I'm Zach, I just watched Dune, it was pret...\n",
       "1  dgr7pb  The most recent film you watched and enjoyed w...\n",
       "2  fyx6wf              The last movie I watched was Hit Man.\n",
       "3  eqa7yg                                               Nerd\n",
       "4  gec2tp                      Once Upon A Time In Hollywood"
      ]
     },
     "execution_count": 10,
     "metadata": {},
     "output_type": "execute_result"
    }
   ],
   "source": [
    "df.head()"
   ]
  },
  {
   "cell_type": "code",
   "execution_count": 11,
   "id": "9ec8280b-a44b-4cfa-bd40-9188012fa5a2",
   "metadata": {
    "tags": []
   },
   "outputs": [
    {
     "name": "stdout",
     "output_type": "stream",
     "text": [
      "00 | ehe5bn | Hi, I'm Zach, I just watched Dune, it was pretty good.\n",
      "\n",
      "01 | dgr7pb | The most recent film you watched and enjoyed was the Lord of the Rings Extended Edition.\n",
      "\n",
      "02 | fyx6wf | The last movie I watched was Hit Man.\n",
      "\n",
      "03 | eqa7yg | Nerd\n",
      "\n",
      "04 | gec2tp | Once Upon A Time In Hollywood\n",
      "\n",
      "05 | qtf7du | Hello, my name is Vishwanath Guruvayur. The most recent movie I watched is Dumb and Dumber.\n",
      "\n",
      "06 | fjp8ez | Hello my name is Javier Alonso. I have not watched a movie as of recently  but I have been watching one piece and I just finished the Whole Cake Island Arc and it was amazing.\n",
      "\n",
      "07 | ggd8hvd | When I was in Panama City Beach the other week I saw \"The Fall Guy\" in movie theaters.\n",
      "\n",
      "08 | wtc6vz | I recently watched and enjoyed a movie called The Fall Guy\n",
      "\n",
      "09 | skk8kc | Hello! My name is Dan. I recently rewatched Saving Private Ryan, which is one of the best movies I have ever seen.\n",
      "\n",
      "10 | yuk7du | Oceans 13\n",
      "\n",
      "11 | mdg7wj | Jurassic Park\n",
      "\n",
      "12 | jak5je | Starstruck\n",
      "\n",
      "13 | mtb2tgk | The most recent film that I have watched and enjoyed was Jurassic Park.\n",
      "\n",
      "14 | nuf8ms | The most recent film I watched and enjoyed was \"Everybody Wants Some\"\n",
      "\n",
      "15 | svw6dn | Suzume\n",
      "\n",
      "16 | lgs4zj | Dune 2\n",
      "\n",
      "17 | bur6yx | The most recent film I watched and enjoyed was Perfect Blue\n",
      "\n",
      "18 | ak2znr | Jurassic Park\n",
      "\n",
      "19 | ag6ykz | The most recent film I watched is Godzilla Minus One.\n",
      "\n",
      "20 | nps3cs | The Fall Guy\n",
      "\n",
      "21 | rca2t | Dune\n",
      "\n",
      "22 | eqp6pg | Inside Out 2\n",
      "\n",
      "23 | aa7dd | Dune: part two\n",
      "\n",
      "24 | ft8xx | The most recent film I enjoyed is called Paper Lives (on Netflix).\n",
      "\n",
      "25 | qcp6az | Jurassic Park\n",
      "\n",
      "26 | fmt2tg | Cast Away\n",
      "\n",
      "27 | rs7aq | Hello my name is Rohan Shroff. The most recent film I watched and enjoyed was The Hill.\n",
      "\n",
      "28 | unc6kr | The idea of you\n",
      "\n",
      "29 | cwp5xyj | Good Will Hunting\n",
      "\n",
      "30 | bcp8dm | My name is Doruk Ozar. The most recent movie I watched was Hit Man in Netflix.\n",
      "\n",
      "31 | dcy2dq | I recently rewatched Yeh Jawaani Hai Deewaani and enjoyed it\n",
      "\n",
      "32 | tjs5nx | Not a big movie guy, but the most recent movie I've watched and enjoyed was the new Batman movie by DC.\n",
      "\n",
      "33 | dbm4bj | The most recent film I watched was Madame Web. I enjoyed it becuase it was terrible.\n",
      "\n",
      "34 | arg8qqv | Diary of a Wimpy Kid\n",
      "\n",
      "35 | wgp3aq | Most recent movie: The Lion King\n",
      "\n",
      "36 | sqr8ap | The most recent film I've watched and enjoyed was Sinister.\n",
      "\n",
      "37 | jst7ee | Dune Pt. 2\n",
      "\n",
      "38 | ajh5ae | The Meg 2\n",
      "\n",
      "39 | js7jx | The Tangerine Bear\n",
      "\n",
      "40 | ttg6nx | The most recent film I watched and enjoyed was The Gentlemen.\n",
      "\n",
      "41 | czz7bf | Hello, my name is Chloe! The most recent movie I watched and  enjoyed was Rio 2\n",
      "\n",
      "42 | mermora97 | Nerd\n",
      "\n",
      "43 | uua9gw | The last movie I watched was Inside Out.\n",
      "\n",
      "44 | zy7ts | most rencent movie i watched and enjoyed - Civil War 2024 by A24 studio\n",
      "\n",
      "45 | xmc6rp | Dune 2\n",
      "\n",
      "46 | urn8he | Frozen 2\n",
      "\n",
      "47 | gnq2mr | I recently watched and enjoyed Midsommar\n",
      "\n",
      "48 | ksg8xy | I recently rewatched Dune!\n",
      "\n",
      "49 | gry6ks | crazy rich asians\n",
      "\n",
      "50 | gbz6qn | Hello! My name is Isaac Levy and a movie I recently watched and enjoyed was 'Wicked Little Letters.'\n",
      "\n",
      "51 | ncc9kn | Hi! My name is Colby Le.  The most recent movie I watched and enjoyed was Lalaland.\n",
      "\n",
      "52 | asm2fe | Road to Hashira training\n",
      "\n",
      "53 | kl2jmx | The most recent film I watched and enjoyed were the Anchorman series!\n",
      "\n",
      "54 | fnj7ht | Oppenheimer\n",
      "\n",
      "55 | uqs3dq | The most recent film I watched an enjoyed was John Tucker Must Die.\n",
      "\n",
      "56 | prz3dt | Diary of a Wimpy Kid\n",
      "\n",
      "57 | cpm6gh | Jurassic Park\n",
      "\n",
      "58 | jah9kqn | Jurassic Park\n",
      "\n"
     ]
    }
   ],
   "source": [
    "for i, r in enumerate(df.user_id + ' | ' + df.comment):\n",
    "    print(str(i).zfill(2), \"| \" + r + \"\\n\")"
   ]
  },
  {
   "cell_type": "code",
   "execution_count": null,
   "id": "b8e2341f-8061-455b-b08d-7b553c7359f8",
   "metadata": {},
   "outputs": [],
   "source": []
  }
 ],
 "metadata": {
  "kernelspec": {
   "display_name": "Python 3",
   "language": "python",
   "name": "python3"
  },
  "language_info": {
   "codemirror_mode": {
    "name": "ipython",
    "version": 3
   },
   "file_extension": ".py",
   "mimetype": "text/x-python",
   "name": "python",
   "nbconvert_exporter": "python",
   "pygments_lexer": "ipython3",
   "version": "3.11.4"
  },
  "widgets": {
   "application/vnd.jupyter.widget-state+json": {
    "state": {},
    "version_major": 2,
    "version_minor": 0
   }
  }
 },
 "nbformat": 4,
 "nbformat_minor": 5
}
