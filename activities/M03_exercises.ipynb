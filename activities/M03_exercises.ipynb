{
 "cells": [
  {
   "cell_type": "markdown",
   "id": "d17a2cee-4639-4231-92e1-3c4165c2c0a8",
   "metadata": {},
   "source": [
    "# M03 Exercises"
   ]
  },
  {
   "cell_type": "markdown",
   "id": "1a57bbfd-4e6a-4742-89a0-ebef676a3d91",
   "metadata": {},
   "source": [
    "## Exercise 3.1"
   ]
  },
  {
   "cell_type": "code",
   "execution_count": 4,
   "id": "51936358-cb64-4c8d-bade-59ee41f1c2f4",
   "metadata": {
    "tags": []
   },
   "outputs": [],
   "source": [
    "val = 5\n",
    "\n",
    "if -10 < val < - 5:\n",
    "    print('bucket 1')\n",
    "elif -5 <= val <= -2:\n",
    "    print('bucket 2')\n",
    "elif val == -2:\n",
    "    print('bucket 3')"
   ]
  },
  {
   "cell_type": "markdown",
   "id": "4970d8a9-908a-4036-b6e1-b5940c1fc6ea",
   "metadata": {},
   "source": [
    "If `val = 5`, nothing will print.\n",
    "\n",
    "To fix the problem, add another elif condition if needed, or an else:"
   ]
  },
  {
   "cell_type": "code",
   "execution_count": 5,
   "id": "f2bd88d3-8e61-4733-b7ad-a000467bdbf1",
   "metadata": {
    "tags": []
   },
   "outputs": [
    {
     "name": "stdout",
     "output_type": "stream",
     "text": [
      "bucket 4\n"
     ]
    }
   ],
   "source": [
    "val = 5\n",
    "\n",
    "if -10 < val < - 5:\n",
    "    print('bucket 1')\n",
    "elif -5 <= val <= -2:\n",
    "    print('bucket 2')\n",
    "elif val == -2:\n",
    "    print('bucket 3')\n",
    "else:\n",
    "    print('bucket 4')"
   ]
  },
  {
   "cell_type": "markdown",
   "id": "faca8f3c-3727-48e9-ad45-c8e27ef9c892",
   "metadata": {},
   "source": [
    "## Exercise 3.2"
   ]
  },
  {
   "cell_type": "code",
   "execution_count": 10,
   "id": "afce9ba0-6587-4e19-b12a-e3e9011c9581",
   "metadata": {
    "tags": []
   },
   "outputs": [
    {
     "name": "stdout",
     "output_type": "stream",
     "text": [
      "-2\n",
      "max_val\n",
      "0\n",
      "5\n",
      "6\n"
     ]
    }
   ],
   "source": [
    "xx = [-2,8,0,5,6]\n",
    "\n",
    "max_val = max(xx)\n",
    "\n",
    "for x in xx:\n",
    "    print(x) if x < max_val else print('max_val')"
   ]
  },
  {
   "cell_type": "markdown",
   "id": "61864efb-e679-48b8-b804-2397154cbc06",
   "metadata": {},
   "source": [
    "## Exercise 3.3"
   ]
  },
  {
   "cell_type": "code",
   "execution_count": 18,
   "id": "4419eadd-3fb0-46a4-8270-5e7f595803fc",
   "metadata": {
    "tags": []
   },
   "outputs": [
    {
     "name": "stdout",
     "output_type": "stream",
     "text": [
      "0\n",
      "10\n",
      "20\n",
      "30\n",
      "40\n",
      "50\n",
      "60\n",
      "70\n",
      "80\n",
      "90\n"
     ]
    }
   ],
   "source": [
    "it = 0\n",
    "\n",
    "max_iter = 100\n",
    "\n",
    "while it < max_iter:\n",
    "    if (it == 0) or (it % 10 == 0):\n",
    "        print(it)\n",
    "    it += 1"
   ]
  },
  {
   "cell_type": "markdown",
   "id": "4551d7dc-4e56-4964-9577-2d656db495cc",
   "metadata": {},
   "source": [
    "## Exercise 3.4"
   ]
  },
  {
   "cell_type": "code",
   "execution_count": 23,
   "id": "71a9ca67-8e19-4ff7-be67-50fc4a54f502",
   "metadata": {
    "tags": []
   },
   "outputs": [
    {
     "name": "stdout",
     "output_type": "stream",
     "text": [
      "united states\n",
      "john\n",
      "boston\n",
      "washington\n"
     ]
    }
   ],
   "source": [
    "my_list = ['United States','John','Boston','Washington']\n",
    "\n",
    "for i in my_list:\n",
    "    print(i.lower())"
   ]
  },
  {
   "cell_type": "markdown",
   "id": "a91bd91a-5b62-4a1f-97de-d0e2a6caa647",
   "metadata": {},
   "source": [
    "## Exercise 3.5"
   ]
  },
  {
   "cell_type": "code",
   "execution_count": 37,
   "id": "5d47f6d9-3182-428e-9da0-82fb720d4b9d",
   "metadata": {
    "tags": []
   },
   "outputs": [
    {
     "name": "stdout",
     "output_type": "stream",
     "text": [
      "United States\n",
      "John\n",
      "Boston\n",
      "Washington\n",
      "United States\n",
      "John\n",
      "Boston\n",
      "Washington\n"
     ]
    }
   ],
   "source": [
    "my_iter = iter(my_list)\n",
    "print(next(my_iter))\n",
    "print(next(my_iter))\n",
    "print(next(my_iter))\n",
    "print(next(my_iter))\n",
    "\n",
    "my_iter = iter(my_list)\n",
    "_ = [print(next(my_iter)) for i in range(len(my_list))]"
   ]
  },
  {
   "cell_type": "markdown",
   "id": "e549a6fc-8b6c-4083-a791-a6a162903b1c",
   "metadata": {},
   "source": [
    "## Exercise 3.6"
   ]
  },
  {
   "cell_type": "code",
   "execution_count": 35,
   "id": "51918290-5011-4557-a225-1dbd25c510dd",
   "metadata": {
    "tags": []
   },
   "outputs": [
    {
     "name": "stdout",
     "output_type": "stream",
     "text": [
      "Medford 11763\n",
      "Charlottesville 22903\n"
     ]
    }
   ],
   "source": [
    "my_dict = {\n",
    "    'Medford':11763,\n",
    "    'Charlottesville':22903\n",
    "}\n",
    "\n",
    "for city, zip in my_dict.items():\n",
    "    print(city, zip)"
   ]
  },
  {
   "cell_type": "markdown",
   "id": "dceae858-a94b-480d-9d37-8bf8b05a976f",
   "metadata": {},
   "source": [
    "## Exercise 3.7"
   ]
  },
  {
   "cell_type": "code",
   "execution_count": 36,
   "id": "e57a4d3e-6217-49c8-9f08-74c0499f1820",
   "metadata": {
    "tags": []
   },
   "outputs": [
    {
     "name": "stdout",
     "output_type": "stream",
     "text": [
      "Medford 11763\n",
      "Charlottesville 22903\n"
     ]
    }
   ],
   "source": [
    "for key in my_dict.keys():\n",
    "    print(key, my_dict[key])"
   ]
  },
  {
   "cell_type": "markdown",
   "id": "a07fd110-617e-48f5-a0cd-53f30ba9f139",
   "metadata": {},
   "source": [
    "## Exercise 3.8"
   ]
  },
  {
   "cell_type": "code",
   "execution_count": 43,
   "id": "0b8cee08-7c2d-495c-b44d-44aa0e8cf3b4",
   "metadata": {
    "tags": []
   },
   "outputs": [
    {
     "name": "stdout",
     "output_type": "stream",
     "text": [
      "[8, 64, 512]\n"
     ]
    }
   ],
   "source": [
    "numeric_list = [2,4,8]\n",
    "\n",
    "print([i**3 for i in numeric_list])"
   ]
  },
  {
   "cell_type": "markdown",
   "id": "b02f0b7f-7bab-4ad4-8611-a8b5c370f0d4",
   "metadata": {},
   "source": [
    "## Exercise 3.9"
   ]
  },
  {
   "cell_type": "code",
   "execution_count": 44,
   "id": "3404635c-3bf8-4f15-9c37-8494dbeccfa0",
   "metadata": {
    "tags": []
   },
   "outputs": [
    {
     "name": "stdout",
     "output_type": "stream",
     "text": [
      "['52', '4']\n"
     ]
    }
   ],
   "source": [
    "str_list = ['lol','52','4','john','uva','sds']\n",
    "\n",
    "print([i for i in str_list if i.isdigit()])"
   ]
  },
  {
   "cell_type": "markdown",
   "id": "8c4c1a3e-ae69-4d3a-b187-ae9b4e66d5cd",
   "metadata": {},
   "source": [
    "## Exercise 3.10"
   ]
  },
  {
   "cell_type": "code",
   "execution_count": 45,
   "id": "6539aedd-bd39-4a51-b434-8512409dc6e7",
   "metadata": {
    "tags": []
   },
   "outputs": [
    {
     "name": "stdout",
     "output_type": "stream",
     "text": [
      "{'max_depth': [5, 10], 'max_iter': [10, 20]}\n"
     ]
    }
   ],
   "source": [
    "grid = {\n",
    "    'max_depth':[5,10],\n",
    "    'ntrees':[100,200,300],\n",
    "    'regularization':[11,12],\n",
    "    'max_iter':[10,20]\n",
    "}\n",
    "\n",
    "print({key:grid[key] for key in grid.keys() if 'max' in key})"
   ]
  }
 ],
 "metadata": {
  "kernelspec": {
   "display_name": "Python 3 (ipykernel)",
   "language": "python",
   "name": "python3"
  },
  "language_info": {
   "codemirror_mode": {
    "name": "ipython",
    "version": 3
   },
   "file_extension": ".py",
   "mimetype": "text/x-python",
   "name": "python",
   "nbconvert_exporter": "python",
   "pygments_lexer": "ipython3",
   "version": "3.11.4"
  }
 },
 "nbformat": 4,
 "nbformat_minor": 5
}
